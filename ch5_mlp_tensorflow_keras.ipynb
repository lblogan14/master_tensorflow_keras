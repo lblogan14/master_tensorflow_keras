{
  "nbformat": 4,
  "nbformat_minor": 0,
  "metadata": {
    "colab": {
      "name": "ch5_mlp_tensorflow_keras.ipynb",
      "version": "0.3.2",
      "provenance": [],
      "collapsed_sections": [
        "idko_mUGfOqU",
        "8Gz2nnjmA6Pb",
        "zLCj2_SmDUYz",
        "1GH-eGPREoOw"
      ],
      "include_colab_link": true
    },
    "kernelspec": {
      "name": "python3",
      "display_name": "Python 3"
    }
  },
  "cells": [
    {
      "cell_type": "markdown",
      "metadata": {
        "id": "view-in-github",
        "colab_type": "text"
      },
      "source": [
        "<a href=\"https://colab.research.google.com/github/lblogan14/master_tensorflow_keras/blob/master/ch5_mlp_tensorflow_keras.ipynb\" target=\"_parent\"><img src=\"https://colab.research.google.com/assets/colab-badge.svg\" alt=\"Open In Colab\"/></a>"
      ]
    },
    {
      "metadata": {
        "id": "idko_mUGfOqU",
        "colab_type": "text"
      },
      "cell_type": "markdown",
      "source": [
        "# Code Prerequisites"
      ]
    },
    {
      "metadata": {
        "id": "ycBgUfN1wmSb",
        "colab_type": "code",
        "outputId": "efafe131-4887-4afd-e94f-935fcb9eae8d",
        "colab": {
          "base_uri": "https://localhost:8080/",
          "height": 102
        }
      },
      "cell_type": "code",
      "source": [
        "import numpy as np\n",
        "np.random.seed(123)\n",
        "print(\"NumPy:{}\".format(np.__version__))\n",
        "\n",
        "import pandas as pd\n",
        "print(\"Pandas:{}\".format(pd.__version__))\n",
        "\n",
        "import math\n",
        "import os\n",
        "\n",
        "import matplotlib as mpl\n",
        "import matplotlib.pyplot as plt\n",
        "from matplotlib.pylab import rcParams\n",
        "rcParams['figure.figsize'] = 15, 10\n",
        "print(\"Matplotlib:{}\".format(mpl.__version__))\n",
        "\n",
        "import tensorflow as tf\n",
        "tf.set_random_seed(123)\n",
        "print(\"TensorFlow:{}\".format(tf.__version__))\n",
        "\n",
        "import keras\n",
        "print(\"Keras:{}\".format(keras.__version__))"
      ],
      "execution_count": 71,
      "outputs": [
        {
          "output_type": "stream",
          "text": [
            "NumPy:1.14.6\n",
            "Pandas:0.22.0\n",
            "Matplotlib:2.1.2\n",
            "TensorFlow:1.12.0-rc2\n",
            "Keras:2.2.4\n"
          ],
          "name": "stdout"
        }
      ]
    },
    {
      "metadata": {
        "id": "Xywd8gUodrVa",
        "colab_type": "code",
        "colab": {
          "base_uri": "https://localhost:8080/",
          "height": 241
        },
        "outputId": "b33bbc9e-fef0-40ce-db69-8a36a5c012f7"
      },
      "cell_type": "code",
      "source": [
        "!pip3 install imageio\n",
        "DATASETSLIB_HOME = '../datasetslib'\n",
        "import sys\n",
        "if not DATASETSLIB_HOME in sys.path:\n",
        "    sys.path.append(DATASETSLIB_HOME)\n",
        "%reload_ext autoreload\n",
        "%autoreload 2\n",
        "import datasetslib\n",
        "\n",
        "from datasetslib import util as dsu"
      ],
      "execution_count": 76,
      "outputs": [
        {
          "output_type": "stream",
          "text": [
            "Collecting imageio\n",
            "\u001b[?25l  Downloading https://files.pythonhosted.org/packages/28/b4/cbb592964dfd71a9de6a5b08f882fd334fb99ae09ddc82081dbb2f718c81/imageio-2.4.1.tar.gz (3.3MB)\n",
            "\u001b[K    100% |████████████████████████████████| 3.3MB 8.3MB/s \n",
            "\u001b[?25hRequirement already satisfied: numpy in /usr/local/lib/python3.6/dist-packages (from imageio) (1.14.6)\n",
            "Requirement already satisfied: pillow in /usr/local/lib/python3.6/dist-packages (from imageio) (4.0.0)\n",
            "Requirement already satisfied: olefile in /usr/local/lib/python3.6/dist-packages (from pillow->imageio) (0.46)\n",
            "Building wheels for collected packages: imageio\n",
            "  Running setup.py bdist_wheel for imageio ... \u001b[?25l-\b \b\\\b \b|\b \b/\b \bdone\n",
            "\u001b[?25h  Stored in directory: /root/.cache/pip/wheels/e0/43/31/605de9372ceaf657f152d3d5e82f42cf265d81db8bbe63cde1\n",
            "Successfully built imageio\n",
            "Installing collected packages: imageio\n",
            "Successfully installed imageio-2.4.1\n"
          ],
          "name": "stdout"
        }
      ]
    },
    {
      "metadata": {
        "id": "g0BXfAusvfoB",
        "colab_type": "text"
      },
      "cell_type": "markdown",
      "source": [
        "#MultiLayer Perceptron\n",
        "![](https://dz13w8afd47il.cloudfront.net/graphics/9781788292061/graphics/8da1b74b-a7ed-4558-b409-87c66868bc2f.png)"
      ]
    },
    {
      "metadata": {
        "id": "4xNJ5ugIw7Ju",
        "colab_type": "text"
      },
      "cell_type": "markdown",
      "source": [
        "#MLP for image classification"
      ]
    },
    {
      "metadata": {
        "id": "EToFnqDExCRB",
        "colab_type": "code",
        "colab": {}
      },
      "cell_type": "code",
      "source": [
        "from tensorflow.examples.tutorials.mnist import input_data\n",
        "mnist = input_data.read_data_sets('mnist', one_hot=True)\n",
        "\n",
        "x_train = mnist.train.images\n",
        "x_test = mnist.test.images\n",
        "y_train = mnist.train.labels\n",
        "y_test = mnist.test.labels\n",
        "\n",
        "num_outputs = 10\n",
        "num_inputs = 28*28"
      ],
      "execution_count": 0,
      "outputs": []
    },
    {
      "metadata": {
        "id": "6UAAon72xnFQ",
        "colab_type": "text"
      },
      "cell_type": "markdown",
      "source": [
        "##TensorFlow-based MLP for MNIST classification\n",
        "create three helper functions"
      ]
    },
    {
      "metadata": {
        "id": "M8SccR1IyIg4",
        "colab_type": "code",
        "colab": {}
      },
      "cell_type": "code",
      "source": [
        "tf.reset_default_graph()"
      ],
      "execution_count": 0,
      "outputs": []
    },
    {
      "metadata": {
        "id": "7vhBuXAe02Ae",
        "colab_type": "text"
      },
      "cell_type": "markdown",
      "source": [
        "`mlp()` builds the network layers and returns a `layer` object that contains the MLP network"
      ]
    },
    {
      "metadata": {
        "id": "S8PzF5F9yLKw",
        "colab_type": "code",
        "colab": {}
      },
      "cell_type": "code",
      "source": [
        "def mlp(x, num_inputs, num_outputs, num_layers, num_neurons):\n",
        "  w = []\n",
        "  b = []\n",
        "  for i in range(num_layers):\n",
        "    # weights\n",
        "    w.append(tf.Variable(tf.random_normal([num_inputs if i==0 else num_neurons[i-1],\n",
        "                                           num_neurons[i]]),\n",
        "                         name='w_{0:04d}'.format(i)\n",
        "                        )\n",
        "            )\n",
        "    # biases\n",
        "    b.append(tf.Variable(tf.random_normal([num_neurons[i]]),\n",
        "                         name='b_{0:04d}'.format(i)\n",
        "                        )\n",
        "            )\n",
        "    \n",
        "  w.append(tf.Variable(tf.random_normal([num_neurons[num_layers-1] if num_layers>0 else num_inputs,\n",
        "                                         num_outputs]),\n",
        "                       name='w_out')\n",
        "          )\n",
        "  b.append(tf.Variable(tf.random_normal([num_outputs]),\n",
        "                       name='b_out')\n",
        "          )\n",
        "  \n",
        "  # x is input layer\n",
        "  layer = x\n",
        "  # hidden layers\n",
        "  for i in range(num_layers):\n",
        "    layer = tf.nn.relu(tf.matmul(layer, w[i]) + b[i])\n",
        "  # output layers\n",
        "  layer = tf.matmul(layer, w[num_layers]) + b[num_layers]\n",
        "  return layer"
      ],
      "execution_count": 0,
      "outputs": []
    },
    {
      "metadata": {
        "id": "ew1qcN4s0_rH",
        "colab_type": "text"
      },
      "cell_type": "markdown",
      "source": [
        "`mnist_batch)func()` wraps the TensorFlow's batch function for the MNIST dataset to provide the next batch of images"
      ]
    },
    {
      "metadata": {
        "id": "QVF8WKo31JLN",
        "colab_type": "code",
        "colab": {}
      },
      "cell_type": "code",
      "source": [
        "def mnist_batch_func(batch_size=100):\n",
        "  x_batch, y_batch = mnist.train.next_batch(batch_size)\n",
        "  return [x_batch, y_batch]"
      ],
      "execution_count": 0,
      "outputs": []
    },
    {
      "metadata": {
        "id": "BcHyUxtF1Otq",
        "colab_type": "text"
      },
      "cell_type": "markdown",
      "source": [
        "`tensorflow_classification` trains and evaluates the model"
      ]
    },
    {
      "metadata": {
        "id": "oAXYYtka1Y2d",
        "colab_type": "code",
        "colab": {}
      },
      "cell_type": "code",
      "source": [
        "def tensorflow_classification(n_epochs, n_batches, batch_size, batch_func, \n",
        "                              model, optimizer, loss, accuracy_function,\n",
        "                              x_test, y_test):\n",
        "  with tf.Session() as tfs:\n",
        "    tfs.run(tf.global_variables_initializer())\n",
        "    for epoch in range(n_epochs):\n",
        "      epoch_loss = 0.0\n",
        "      for batch in range(n_batches):\n",
        "        x_batch, y_batch = batch_func(batch_size)\n",
        "        feed_dict = {x:x_batch, y:y_batch}\n",
        "        _, batch_loss = tfs.run([optimizer, loss], feed_dict)\n",
        "        epoch_loss += batch_loss\n",
        "      average_loss = epoch_loss / n_batches\n",
        "      print('epoch: {0:04d}    loss = {1:0.6f}'.format(epoch, average_loss))\n",
        "    \n",
        "    feed_dict = {x: x_test, y:y_test}\n",
        "    accuracy_score = tfs.run(accuracy_function, feed_dict=feed_dict)\n",
        "    print('accuracy={0:.8f}'.format(accuracy_score))"
      ],
      "execution_count": 0,
      "outputs": []
    },
    {
      "metadata": {
        "id": "9lBSBTv53H8Y",
        "colab_type": "text"
      },
      "cell_type": "markdown",
      "source": [
        "Now we can define input, output, and other parameters,"
      ]
    },
    {
      "metadata": {
        "id": "PjlVWuFx1wRg",
        "colab_type": "code",
        "colab": {}
      },
      "cell_type": "code",
      "source": [
        "tf.reset_default_graph()"
      ],
      "execution_count": 0,
      "outputs": []
    },
    {
      "metadata": {
        "id": "NQfKI_d53Njs",
        "colab_type": "code",
        "colab": {}
      },
      "cell_type": "code",
      "source": [
        "num_layers = 0\n",
        "num_neurons = []\n",
        "learning_rate = 0.01\n",
        "n_epochs = 50\n",
        "batch_size = 100\n",
        "n_batches = int(mnist.train.num_examples / batch_size)\n",
        "\n",
        "# input images\n",
        "x = tf.placeholder(dtype=tf.float32, shape=[None, num_inputs], name='x')\n",
        "# target output\n",
        "y = tf.placeholder(dtype=tf.float32, shape=[None, num_outputs], name='y')"
      ],
      "execution_count": 0,
      "outputs": []
    },
    {
      "metadata": {
        "id": "BM8EiqMG3wkt",
        "colab_type": "text"
      },
      "cell_type": "markdown",
      "source": [
        "define loss and optimization functions,"
      ]
    },
    {
      "metadata": {
        "id": "8km_CQJk32ej",
        "colab_type": "code",
        "colab": {}
      },
      "cell_type": "code",
      "source": [
        "model = mlp(x=x, num_inputs=num_inputs, num_outputs=num_outputs,\n",
        "                 num_layers=num_layers, num_neurons=num_neurons)\n",
        "\n",
        "# loss\n",
        "loss = tf.reduce_mean(tf.nn.softmax_cross_entropy_with_logits(logits=model, labels=y))\n",
        "\n",
        "# optimizer\n",
        "optimizer = tf.train.GradientDescentOptimizer(learning_rate=learning_rate).minimize(loss)\n",
        "\n",
        "predictions_check = tf.equal(tf.argmax(model, 1), tf.argmax(y, 1))\n",
        "accuracy_function = tf.reduce_mean(tf.cast(predictions_check, tf.float32))"
      ],
      "execution_count": 0,
      "outputs": []
    },
    {
      "metadata": {
        "id": "zUJqIYj94k2M",
        "colab_type": "text"
      },
      "cell_type": "markdown",
      "source": [
        "When the `tf.nn.softmax_cross_entropy_with_logits()` function is used,\n",
        "make sure that the output is unscaled and has not been passed through\n",
        "the `softmax` activation function. This function internally uses *softmax* to\n",
        "scale the output."
      ]
    },
    {
      "metadata": {
        "id": "rsQA50LG41HF",
        "colab_type": "text"
      },
      "cell_type": "markdown",
      "source": [
        "Everything is defined now. Let's run the last step,"
      ]
    },
    {
      "metadata": {
        "id": "LwyRJGek47G6",
        "colab_type": "code",
        "colab": {}
      },
      "cell_type": "code",
      "source": [
        "tensorflow_classification(n_epochs=n_epochs,\n",
        "                          n_batches=n_batches,\n",
        "                          batch_size=batch_size,\n",
        "                          batch_func=mnist_batch_func,\n",
        "                          model=model,\n",
        "                          optimizer=optimizer,\n",
        "                          loss=loss,\n",
        "                          accuracy_function=accuracy_function,\n",
        "                          x_test=x_test,\n",
        "                          y_test=y_test\n",
        "                         )"
      ],
      "execution_count": 0,
      "outputs": []
    },
    {
      "metadata": {
        "id": "GCiYUpQz6K7H",
        "colab_type": "text"
      },
      "cell_type": "markdown",
      "source": [
        "The single neuron network with no hidden layers slowly reduces the loss from 8.5 to 0.66 over 50\n",
        "iterations, finally getting an accuracy of almost 86 percent.\n",
        "\n",
        "We can try to increase this performance by adding more hidden layers and more hidden neurons within each hidden layer.\n",
        "\n",
        "First, use one hidden layer with 8 hidden neurons,"
      ]
    },
    {
      "metadata": {
        "id": "Qd4VV3Xr6sfp",
        "colab_type": "code",
        "colab": {}
      },
      "cell_type": "code",
      "source": [
        "tf.reset_default_graph()"
      ],
      "execution_count": 0,
      "outputs": []
    },
    {
      "metadata": {
        "id": "5IadHChQ6vNo",
        "colab_type": "code",
        "colab": {}
      },
      "cell_type": "code",
      "source": [
        "num_layers = 1\n",
        "num_neurons = []\n",
        "for i in range(num_layers):\n",
        "  num_neurons.append(8)"
      ],
      "execution_count": 0,
      "outputs": []
    },
    {
      "metadata": {
        "id": "az-i7UJi63rh",
        "colab_type": "code",
        "colab": {}
      },
      "cell_type": "code",
      "source": [
        "# everything else stay the same\n",
        "learning_rate = 0.01\n",
        "n_epochs = 50\n",
        "batch_size = 100\n",
        "n_batches = int(mnist.train.num_examples / batch_size)\n",
        "\n",
        "# input images\n",
        "x = tf.placeholder(dtype=tf.float32, shape=[None, num_inputs], name='x')\n",
        "# target output\n",
        "y = tf.placeholder(dtype=tf.float32, shape=[None, num_outputs], name='y')\n",
        "\n",
        "model = mlp(x=x, num_inputs=num_inputs, num_outputs=num_outputs,\n",
        "                 num_layers=num_layers, num_neurons=num_neurons)\n",
        "\n",
        "# loss\n",
        "loss = tf.reduce_mean(tf.nn.softmax_cross_entropy_with_logits(logits=model, labels=y))\n",
        "\n",
        "# optimizer\n",
        "optimizer = tf.train.GradientDescentOptimizer(learning_rate=learning_rate).minimize(loss)\n",
        "\n",
        "predictions_check = tf.equal(tf.argmax(model, 1), tf.argmax(y, 1))\n",
        "accuracy_function = tf.reduce_mean(tf.cast(predictions_check, tf.float32))"
      ],
      "execution_count": 0,
      "outputs": []
    },
    {
      "metadata": {
        "id": "UhyuE7DW7Lw_",
        "colab_type": "code",
        "colab": {}
      },
      "cell_type": "code",
      "source": [
        "tensorflow_classification(n_epochs=n_epochs,\n",
        "                          n_batches=n_batches,\n",
        "                          batch_size=batch_size,\n",
        "                          batch_func=mnist_batch_func,\n",
        "                          model=model,\n",
        "                          optimizer=optimizer,\n",
        "                          loss=loss,\n",
        "                          accuracy_function=accuracy_function,\n",
        "                          x_test=x_test,\n",
        "                          y_test=y_test\n",
        "                         )"
      ],
      "execution_count": 0,
      "outputs": []
    },
    {
      "metadata": {
        "id": "h4KO5aUu-sFf",
        "colab_type": "text"
      },
      "cell_type": "markdown",
      "source": [
        "The loss is reduced from 4.07 to 0.75.. The accuracy is about 76%... Even worse..\n",
        "\n",
        "Let's add one more hidden layer with 256 neurons in each hidden layer"
      ]
    },
    {
      "metadata": {
        "id": "7meTkTYSAji0",
        "colab_type": "code",
        "colab": {}
      },
      "cell_type": "code",
      "source": [
        "tf.reset_default_graph()"
      ],
      "execution_count": 0,
      "outputs": []
    },
    {
      "metadata": {
        "id": "wYMojIFOAmo8",
        "colab_type": "code",
        "colab": {}
      },
      "cell_type": "code",
      "source": [
        "num_layers = 2\n",
        "num_neurons = []\n",
        "for i in range(num_layers):\n",
        "  num_neurons.append(256)"
      ],
      "execution_count": 0,
      "outputs": []
    },
    {
      "metadata": {
        "id": "g9vCzz7pAtGj",
        "colab_type": "code",
        "colab": {}
      },
      "cell_type": "code",
      "source": [
        "# everything else stay the same\n",
        "learning_rate = 0.01\n",
        "n_epochs = 50\n",
        "batch_size = 100\n",
        "n_batches = int(mnist.train.num_examples / batch_size)\n",
        "\n",
        "# input images\n",
        "x = tf.placeholder(dtype=tf.float32, shape=[None, num_inputs], name='x')\n",
        "# target output\n",
        "y = tf.placeholder(dtype=tf.float32, shape=[None, num_outputs], name='y')\n",
        "\n",
        "model = mlp(x=x, num_inputs=num_inputs, num_outputs=num_outputs,\n",
        "                 num_layers=num_layers, num_neurons=num_neurons)\n",
        "\n",
        "# loss\n",
        "loss = tf.reduce_mean(tf.nn.softmax_cross_entropy_with_logits(logits=model, labels=y))\n",
        "\n",
        "# optimizer\n",
        "optimizer = tf.train.GradientDescentOptimizer(learning_rate=learning_rate).minimize(loss)\n",
        "\n",
        "predictions_check = tf.equal(tf.argmax(model, 1), tf.argmax(y, 1))\n",
        "accuracy_function = tf.reduce_mean(tf.cast(predictions_check, tf.float32))"
      ],
      "execution_count": 0,
      "outputs": []
    },
    {
      "metadata": {
        "id": "PEbNkhhnAx4E",
        "colab_type": "code",
        "colab": {}
      },
      "cell_type": "code",
      "source": [
        "tensorflow_classification(n_epochs=n_epochs,\n",
        "                          n_batches=n_batches,\n",
        "                          batch_size=batch_size,\n",
        "                          batch_func=mnist_batch_func,\n",
        "                          model=model,\n",
        "                          optimizer=optimizer,\n",
        "                          loss=loss,\n",
        "                          accuracy_function=accuracy_function,\n",
        "                          x_test=x_test,\n",
        "                          y_test=y_test\n",
        "                         )"
      ],
      "execution_count": 0,
      "outputs": []
    },
    {
      "metadata": {
        "id": "Dfg7Z1_iBaFS",
        "colab_type": "text"
      },
      "cell_type": "markdown",
      "source": [
        "The loss is reduced from 56.6 to 0.003 while the accuracy is 93.2% now. Of course, the training time is longer than the previous two."
      ]
    },
    {
      "metadata": {
        "id": "8Gz2nnjmA6Pb",
        "colab_type": "text"
      },
      "cell_type": "markdown",
      "source": [
        "##Keras-based MLP for MNIST classification\n",
        "All parameters used for TensorFlow example keep the same for Keras"
      ]
    },
    {
      "metadata": {
        "id": "8Pg7me9RBWjb",
        "colab_type": "code",
        "colab": {}
      },
      "cell_type": "code",
      "source": [
        "import keras\n",
        "from keras.models import Sequential\n",
        "from keras.layers import Dense\n",
        "from keras.optimizers import SGD"
      ],
      "execution_count": 0,
      "outputs": []
    },
    {
      "metadata": {
        "id": "09nrVJdNBu8b",
        "colab_type": "code",
        "colab": {}
      },
      "cell_type": "code",
      "source": [
        "tf.reset_default_graph()\n",
        "keras.backend.clear_session()"
      ],
      "execution_count": 0,
      "outputs": []
    },
    {
      "metadata": {
        "id": "8FhaAM3ICGsC",
        "colab_type": "text"
      },
      "cell_type": "markdown",
      "source": [
        "Initialize all the parameters,"
      ]
    },
    {
      "metadata": {
        "id": "AHosuni1B4BS",
        "colab_type": "code",
        "colab": {}
      },
      "cell_type": "code",
      "source": [
        "num_layers = 2\n",
        "num_neurons = []\n",
        "for i in range(num_layers):\n",
        "  num_neurons.append(256)\n",
        "  \n",
        "learning_rate = 0.01\n",
        "n_epochs = 50\n",
        "batch_size = 100"
      ],
      "execution_count": 0,
      "outputs": []
    },
    {
      "metadata": {
        "id": "don1RDvZCJX2",
        "colab_type": "text"
      },
      "cell_type": "markdown",
      "source": [
        "Build the network,"
      ]
    },
    {
      "metadata": {
        "id": "F_p0AqU_CEia",
        "colab_type": "code",
        "colab": {}
      },
      "cell_type": "code",
      "source": [
        "model = Sequential()\n",
        "model.add(Dense(units=num_neurons[0], activation='relu', input_shape=(num_inputs,)))\n",
        "model.add(Dense(units=num_neurons[1], activation='relu'))\n",
        "model.add(Dense(units=num_outputs, activation='softmax'))\n",
        "model.summary()"
      ],
      "execution_count": 0,
      "outputs": []
    },
    {
      "metadata": {
        "id": "zA_BVVJrCnIS",
        "colab_type": "text"
      },
      "cell_type": "markdown",
      "source": [
        "Compile and train the network,"
      ]
    },
    {
      "metadata": {
        "id": "uESMyzOVCiRS",
        "colab_type": "code",
        "colab": {}
      },
      "cell_type": "code",
      "source": [
        "model.compile(loss='categorical_crossentropy', \n",
        "              optimizer=SGD(lr=learning_rate),\n",
        "              metrics=['accuracy'])\n",
        "\n",
        "model.fit(x_train, y_train, batch_size=batch_size, epochs=n_epochs)"
      ],
      "execution_count": 0,
      "outputs": []
    },
    {
      "metadata": {
        "id": "39kEAOTXDAVY",
        "colab_type": "text"
      },
      "cell_type": "markdown",
      "source": [
        "Evaluate the network,"
      ]
    },
    {
      "metadata": {
        "id": "UxVApeChDGRa",
        "colab_type": "code",
        "colab": {}
      },
      "cell_type": "code",
      "source": [
        "score = model.evaluate(x_test, y_test)\n",
        "print('\\nTest loss:', score[0])\n",
        "print('Test accuracy:', score[1])"
      ],
      "execution_count": 0,
      "outputs": []
    },
    {
      "metadata": {
        "id": "zLCj2_SmDUYz",
        "colab_type": "text"
      },
      "cell_type": "markdown",
      "source": [
        "##TFLearn-based MLP for MNIST classification"
      ]
    },
    {
      "metadata": {
        "id": "dpbQq__xDsj6",
        "colab_type": "code",
        "colab": {}
      },
      "cell_type": "code",
      "source": [
        "!pip3 install tflearn"
      ],
      "execution_count": 0,
      "outputs": []
    },
    {
      "metadata": {
        "id": "EUFk-JR0DY1S",
        "colab_type": "code",
        "colab": {}
      },
      "cell_type": "code",
      "source": [
        "import tflearn"
      ],
      "execution_count": 0,
      "outputs": []
    },
    {
      "metadata": {
        "id": "O10CQne9D4ei",
        "colab_type": "code",
        "colab": {}
      },
      "cell_type": "code",
      "source": [
        "tf.reset_default_graph()"
      ],
      "execution_count": 0,
      "outputs": []
    },
    {
      "metadata": {
        "id": "jPpSjgEjD6fR",
        "colab_type": "code",
        "colab": {}
      },
      "cell_type": "code",
      "source": [
        "num_layers = 2\n",
        "num_neurons = []\n",
        "for i in range(num_layers):\n",
        "    num_neurons.append(256)\n",
        "    \n",
        "learning_rate = 0.01\n",
        "n_epochs = 50\n",
        "batch_size = 100"
      ],
      "execution_count": 0,
      "outputs": []
    },
    {
      "metadata": {
        "id": "Km__Rs9yD82n",
        "colab_type": "text"
      },
      "cell_type": "markdown",
      "source": [
        "Build the network,"
      ]
    },
    {
      "metadata": {
        "id": "Kz4BQJWmEAGB",
        "colab_type": "code",
        "colab": {}
      },
      "cell_type": "code",
      "source": [
        "# Build deep neural network\n",
        "input_layer = tflearn.input_data(shape=[None, num_inputs])\n",
        "dense1 = tflearn.fully_connected(input_layer, num_neurons[0], activation='relu')\n",
        "dense2 = tflearn.fully_connected(dense1, num_neurons[1], activation='relu')\n",
        "softmax = tflearn.fully_connected(dense2, num_outputs, activation='softmax')"
      ],
      "execution_count": 0,
      "outputs": []
    },
    {
      "metadata": {
        "id": "e00eMlyTETGA",
        "colab_type": "text"
      },
      "cell_type": "markdown",
      "source": [
        "Define the optimizer function, neural network, and MLP model (known as `DNN`\n",
        "in TFLearn) using the `DNN` built in the last step"
      ]
    },
    {
      "metadata": {
        "id": "GjnTs4aSEObC",
        "colab_type": "code",
        "colab": {}
      },
      "cell_type": "code",
      "source": [
        "optimizer = tflearn.SGD(learning_rate=learning_rate)\n",
        "net = tflearn.regression(softmax, optimizer=optimizer, \n",
        "                         metric=tflearn.metrics.Accuracy(), \n",
        "                         loss='categorical_crossentropy')\n",
        "model = tflearn.DNN(net)"
      ],
      "execution_count": 0,
      "outputs": []
    },
    {
      "metadata": {
        "id": "7njkTluhEfV7",
        "colab_type": "text"
      },
      "cell_type": "markdown",
      "source": [
        "Train the model,"
      ]
    },
    {
      "metadata": {
        "id": "Q6BdrWVdEgkA",
        "colab_type": "code",
        "colab": {}
      },
      "cell_type": "code",
      "source": [
        "model.fit(x_train, y_train, \n",
        "          n_epoch=n_epochs, batch_size=batch_size, \n",
        "          show_metric=True, run_id='dense_model')"
      ],
      "execution_count": 0,
      "outputs": []
    },
    {
      "metadata": {
        "id": "5_chC_w2El9c",
        "colab_type": "code",
        "colab": {}
      },
      "cell_type": "code",
      "source": [
        "score = model.evaluate(X_test, Y_test)\n",
        "print('Test accuracy:', score[0])"
      ],
      "execution_count": 0,
      "outputs": []
    },
    {
      "metadata": {
        "id": "1GH-eGPREoOw",
        "colab_type": "text"
      },
      "cell_type": "markdown",
      "source": [
        "##Summary\n",
        "The code in TensorFlow is very detailed and lengthy as compared to Keras\n",
        "and TFLearn. The high-level libraries make it easier for us to build and train neural network\n",
        "models."
      ]
    },
    {
      "metadata": {
        "id": "BxqyoReDEzpp",
        "colab_type": "text"
      },
      "cell_type": "markdown",
      "source": [
        "#MLP for time series regression"
      ]
    },
    {
      "metadata": {
        "id": "Y65rJq0WbNt0",
        "colab_type": "text"
      },
      "cell_type": "markdown",
      "source": [
        "## Load and Prepare dataset"
      ]
    },
    {
      "metadata": {
        "id": "7wQfwgeLFBAG",
        "colab_type": "code",
        "colab": {
          "base_uri": "https://localhost:8080/",
          "height": 122
        },
        "outputId": "9e1c990f-01be-4d68-926d-d01099ce1faa"
      },
      "cell_type": "code",
      "source": [
        "from google.colab import drive\n",
        "drive.mount('/content/drive') #add drive content to the notebook"
      ],
      "execution_count": 69,
      "outputs": [
        {
          "output_type": "stream",
          "text": [
            "Go to this URL in a browser: https://accounts.google.com/o/oauth2/auth?client_id=947318989803-6bn6qk8qdgf4n4g3pfee6491hc0brc4i.apps.googleusercontent.com&redirect_uri=urn%3Aietf%3Awg%3Aoauth%3A2.0%3Aoob&scope=email%20https%3A%2F%2Fwww.googleapis.com%2Fauth%2Fdocs.test%20https%3A%2F%2Fwww.googleapis.com%2Fauth%2Fdrive%20https%3A%2F%2Fwww.googleapis.com%2Fauth%2Fdrive.photos.readonly%20https%3A%2F%2Fwww.googleapis.com%2Fauth%2Fpeopleapi.readonly&response_type=code\n",
            "\n",
            "Enter your authorization code:\n",
            "··········\n",
            "Mounted at /content/drive\n"
          ],
          "name": "stdout"
        }
      ]
    },
    {
      "metadata": {
        "id": "Mn1lZZQ3cahs",
        "colab_type": "code",
        "colab": {
          "base_uri": "https://localhost:8080/",
          "height": 34
        },
        "outputId": "16a787a4-2fc9-40bc-b8a8-c458a78e03d5"
      },
      "cell_type": "code",
      "source": [
        "'''Locate the directory which has the dataset'''\n",
        "%cd /content/drive/My' 'Drive/Colab' 'Notebooks/Mastering_TensorFlow/data"
      ],
      "execution_count": 70,
      "outputs": [
        {
          "output_type": "stream",
          "text": [
            "/content/drive/My Drive/Colab Notebooks/Mastering_TensorFlow/data\n"
          ],
          "name": "stdout"
        }
      ]
    },
    {
      "metadata": {
        "id": "KX2IuhqadDAl",
        "colab_type": "code",
        "colab": {}
      },
      "cell_type": "code",
      "source": [
        "dataframe = pd.read_csv('./dataset/international-airline-passengers.csv',\n",
        "                        usecols=[1], header=0)\n",
        "dataset = dataframe.values\n",
        "dataset = dataset.astype('float32')"
      ],
      "execution_count": 0,
      "outputs": []
    },
    {
      "metadata": {
        "id": "be93ua2if7ef",
        "colab_type": "text"
      },
      "cell_type": "markdown",
      "source": [
        "Split the dataset into test and train sets"
      ]
    },
    {
      "metadata": {
        "id": "PQBVBxajfYB8",
        "colab_type": "code",
        "colab": {
          "base_uri": "https://localhost:8080/",
          "height": 34
        },
        "outputId": "5c1e62f7-05ad-4173-e2c2-68c3343b075a"
      },
      "cell_type": "code",
      "source": [
        "train, test = dsu.train_test_split(dataset, train_size=0.67)\n",
        "print(len(train), len(test))"
      ],
      "execution_count": 77,
      "outputs": [
        {
          "output_type": "stream",
          "text": [
            "96 48\n"
          ],
          "name": "stdout"
        }
      ]
    },
    {
      "metadata": {
        "id": "5U0h3EUWgA_y",
        "colab_type": "text"
      },
      "cell_type": "markdown",
      "source": [
        "For time series regression, we convert the dataset to build a supervised data set.\n",
        "\n",
        "We use a lag of two time steps in this example. We set `n_x` to `2` and the `mvts_to_xy()` function returns the input and output (X and Y) train and test sets such that `X` has values for time `{t-1,t}` in two columns and Y has values for time `{t+1}` in one column."
      ]
    },
    {
      "metadata": {
        "id": "LBqyCZN_ffMo",
        "colab_type": "code",
        "colab": {}
      },
      "cell_type": "code",
      "source": [
        "# reshape to X=t-1,t and Y=t+1\n",
        "n_x = 2\n",
        "n_y = 1\n",
        "\n",
        "x_train, y_train, x_test, y_test = dsu.mvts_to_xy(train, test, n_x=n_x, n_y=n_y)"
      ],
      "execution_count": 0,
      "outputs": []
    },
    {
      "metadata": {
        "id": "ETnOF3rTfzGQ",
        "colab_type": "code",
        "colab": {
          "base_uri": "https://localhost:8080/",
          "height": 34
        },
        "outputId": "f75e6f18-5e76-4f39-cfba-32956fe8917d"
      },
      "cell_type": "code",
      "source": [
        "print(x_train.shape, y_train.shape)"
      ],
      "execution_count": 81,
      "outputs": [
        {
          "output_type": "stream",
          "text": [
            "(94, 2) (94, 1)\n"
          ],
          "name": "stdout"
        }
      ]
    },
    {
      "metadata": {
        "id": "3s6xafOdgc6U",
        "colab_type": "text"
      },
      "cell_type": "markdown",
      "source": [
        "The learning algorithm assumes that values at time t+1 can be learned by finding the relationship between values for time {t-1, t, t+1}."
      ]
    },
    {
      "metadata": {
        "id": "P9FzGPVzgs4W",
        "colab_type": "text"
      },
      "cell_type": "markdown",
      "source": [
        "##Keras model"
      ]
    },
    {
      "metadata": {
        "id": "1tnT2UbjgxRI",
        "colab_type": "code",
        "colab": {}
      },
      "cell_type": "code",
      "source": [
        "from keras.models import Sequential\n",
        "from keras.layers import Dense\n",
        "from keras.optimizers import SGD"
      ],
      "execution_count": 0,
      "outputs": []
    },
    {
      "metadata": {
        "id": "hD-gifolg3bf",
        "colab_type": "code",
        "colab": {}
      },
      "cell_type": "code",
      "source": [
        "tf.reset_default_graph()\n",
        "keras.backend.clear_session()"
      ],
      "execution_count": 0,
      "outputs": []
    },
    {
      "metadata": {
        "id": "NREGddPkg7eg",
        "colab_type": "code",
        "colab": {}
      },
      "cell_type": "code",
      "source": [
        "num_layers = 2\n",
        "num_neurons = [8, 8]\n",
        "n_epochs = 50\n",
        "batch_size = 2"
      ],
      "execution_count": 0,
      "outputs": []
    },
    {
      "metadata": {
        "id": "JTf7nQH9hBGg",
        "colab_type": "code",
        "colab": {
          "base_uri": "https://localhost:8080/",
          "height": 238
        },
        "outputId": "091fb1af-a3bb-430d-f4e7-69adf6cb5568"
      },
      "cell_type": "code",
      "source": [
        "model = Sequential()\n",
        "model.add(Dense(num_neurons[0], activation='relu', input_shape=(n_x,)))\n",
        "model.add(Dense(num_neurons[1], activation='relu',))\n",
        "model.add(Dense(units=1))\n",
        "model.summary()"
      ],
      "execution_count": 85,
      "outputs": [
        {
          "output_type": "stream",
          "text": [
            "_________________________________________________________________\n",
            "Layer (type)                 Output Shape              Param #   \n",
            "=================================================================\n",
            "dense_1 (Dense)              (None, 8)                 24        \n",
            "_________________________________________________________________\n",
            "dense_2 (Dense)              (None, 8)                 72        \n",
            "_________________________________________________________________\n",
            "dense_3 (Dense)              (None, 1)                 9         \n",
            "=================================================================\n",
            "Total params: 105\n",
            "Trainable params: 105\n",
            "Non-trainable params: 0\n",
            "_________________________________________________________________\n"
          ],
          "name": "stdout"
        }
      ]
    },
    {
      "metadata": {
        "id": "ofmgv5M4hVx4",
        "colab_type": "code",
        "colab": {
          "base_uri": "https://localhost:8080/",
          "height": 1734
        },
        "outputId": "14bfde8c-a96b-4532-fddb-af0efc50fda5"
      },
      "cell_type": "code",
      "source": [
        "model.compile(loss='mse', optimizer='adam')\n",
        "model.fit(x_train, y_train, batch_size=batch_size, epochs=n_epochs)"
      ],
      "execution_count": 86,
      "outputs": [
        {
          "output_type": "stream",
          "text": [
            "Epoch 1/50\n",
            "94/94 [==============================] - 0s 2ms/step - loss: 52933.6246\n",
            "Epoch 2/50\n",
            "94/94 [==============================] - 0s 494us/step - loss: 38787.3071\n",
            "Epoch 3/50\n",
            "94/94 [==============================] - 0s 478us/step - loss: 28105.6690\n",
            "Epoch 4/50\n",
            "94/94 [==============================] - 0s 502us/step - loss: 19014.1782\n",
            "Epoch 5/50\n",
            "94/94 [==============================] - 0s 496us/step - loss: 11100.9683\n",
            "Epoch 6/50\n",
            "94/94 [==============================] - 0s 468us/step - loss: 5301.2312\n",
            "Epoch 7/50\n",
            "94/94 [==============================] - 0s 514us/step - loss: 2331.8725\n",
            "Epoch 8/50\n",
            "94/94 [==============================] - 0s 519us/step - loss: 1272.7843\n",
            "Epoch 9/50\n",
            "94/94 [==============================] - 0s 474us/step - loss: 1032.7865\n",
            "Epoch 10/50\n",
            "94/94 [==============================] - 0s 511us/step - loss: 983.0500\n",
            "Epoch 11/50\n",
            "94/94 [==============================] - 0s 524us/step - loss: 964.8280\n",
            "Epoch 12/50\n",
            "94/94 [==============================] - 0s 516us/step - loss: 962.9015\n",
            "Epoch 13/50\n",
            "94/94 [==============================] - 0s 454us/step - loss: 951.2528\n",
            "Epoch 14/50\n",
            "94/94 [==============================] - 0s 501us/step - loss: 954.7201\n",
            "Epoch 15/50\n",
            "94/94 [==============================] - 0s 470us/step - loss: 943.9377\n",
            "Epoch 16/50\n",
            "94/94 [==============================] - 0s 506us/step - loss: 937.2618\n",
            "Epoch 17/50\n",
            "94/94 [==============================] - 0s 508us/step - loss: 923.0443\n",
            "Epoch 18/50\n",
            "94/94 [==============================] - 0s 508us/step - loss: 929.8956\n",
            "Epoch 19/50\n",
            "94/94 [==============================] - 0s 538us/step - loss: 904.9164\n",
            "Epoch 20/50\n",
            "94/94 [==============================] - 0s 495us/step - loss: 894.9442\n",
            "Epoch 21/50\n",
            "94/94 [==============================] - 0s 551us/step - loss: 888.7864\n",
            "Epoch 22/50\n",
            "94/94 [==============================] - 0s 515us/step - loss: 879.8719\n",
            "Epoch 23/50\n",
            "94/94 [==============================] - 0s 455us/step - loss: 860.8248\n",
            "Epoch 24/50\n",
            "94/94 [==============================] - 0s 501us/step - loss: 837.7031\n",
            "Epoch 25/50\n",
            "94/94 [==============================] - 0s 517us/step - loss: 842.4432\n",
            "Epoch 26/50\n",
            "94/94 [==============================] - 0s 464us/step - loss: 820.2130\n",
            "Epoch 27/50\n",
            "94/94 [==============================] - 0s 529us/step - loss: 819.4351\n",
            "Epoch 28/50\n",
            "94/94 [==============================] - 0s 531us/step - loss: 809.1010\n",
            "Epoch 29/50\n",
            "94/94 [==============================] - 0s 493us/step - loss: 808.3674\n",
            "Epoch 30/50\n",
            "94/94 [==============================] - 0s 496us/step - loss: 792.8793\n",
            "Epoch 31/50\n",
            "94/94 [==============================] - 0s 497us/step - loss: 791.2788\n",
            "Epoch 32/50\n",
            "94/94 [==============================] - 0s 523us/step - loss: 779.8293\n",
            "Epoch 33/50\n",
            "94/94 [==============================] - 0s 520us/step - loss: 763.6699\n",
            "Epoch 34/50\n",
            "94/94 [==============================] - 0s 537us/step - loss: 767.7206\n",
            "Epoch 35/50\n",
            "94/94 [==============================] - 0s 511us/step - loss: 753.4439\n",
            "Epoch 36/50\n",
            "94/94 [==============================] - 0s 493us/step - loss: 762.1035\n",
            "Epoch 37/50\n",
            "94/94 [==============================] - 0s 511us/step - loss: 739.0564\n",
            "Epoch 38/50\n",
            "94/94 [==============================] - 0s 534us/step - loss: 743.8459\n",
            "Epoch 39/50\n",
            "94/94 [==============================] - 0s 482us/step - loss: 750.9478\n",
            "Epoch 40/50\n",
            "94/94 [==============================] - 0s 453us/step - loss: 732.9369\n",
            "Epoch 41/50\n",
            "94/94 [==============================] - 0s 545us/step - loss: 711.8896\n",
            "Epoch 42/50\n",
            "94/94 [==============================] - 0s 530us/step - loss: 703.3522\n",
            "Epoch 43/50\n",
            "94/94 [==============================] - 0s 499us/step - loss: 694.6547\n",
            "Epoch 44/50\n",
            "94/94 [==============================] - 0s 439us/step - loss: 693.7327\n",
            "Epoch 45/50\n",
            "94/94 [==============================] - 0s 502us/step - loss: 689.3917\n",
            "Epoch 46/50\n",
            "94/94 [==============================] - 0s 517us/step - loss: 681.2998\n",
            "Epoch 47/50\n",
            "94/94 [==============================] - 0s 460us/step - loss: 681.3188\n",
            "Epoch 48/50\n",
            "94/94 [==============================] - 0s 476us/step - loss: 678.3132\n",
            "Epoch 49/50\n",
            "94/94 [==============================] - 0s 472us/step - loss: 654.6117\n",
            "Epoch 50/50\n",
            "94/94 [==============================] - 0s 480us/step - loss: 669.5264\n"
          ],
          "name": "stdout"
        },
        {
          "output_type": "execute_result",
          "data": {
            "text/plain": [
              "<keras.callbacks.History at 0x7f20f883fd68>"
            ]
          },
          "metadata": {
            "tags": []
          },
          "execution_count": 86
        }
      ]
    },
    {
      "metadata": {
        "id": "ZWHPrRNVhieF",
        "colab_type": "code",
        "colab": {
          "base_uri": "https://localhost:8080/",
          "height": 85
        },
        "outputId": "a08d8aeb-2a62-4679-dbbe-bb832b46e729"
      },
      "cell_type": "code",
      "source": [
        "score = model.evaluate(x_test, y_test)\n",
        "print('\\nTest mse:', score)\n",
        "print('Test rmse:', np.sqrt(score))"
      ],
      "execution_count": 87,
      "outputs": [
        {
          "output_type": "stream",
          "text": [
            "46/46 [==============================] - 0s 553us/step\n",
            "\n",
            "Test mse: 2959.5584769870925\n",
            "Test rmse: 54.401824206427975\n"
          ],
          "name": "stdout"
        }
      ]
    },
    {
      "metadata": {
        "id": "9OpMuArKhyCr",
        "colab_type": "text"
      },
      "cell_type": "markdown",
      "source": [
        "Plot the data and the prediction,"
      ]
    },
    {
      "metadata": {
        "id": "w-hSmmr4h0tp",
        "colab_type": "code",
        "colab": {}
      },
      "cell_type": "code",
      "source": [
        "# make predictions\n",
        "y_train_pred = model.predict(x_train)\n",
        "y_test_pred = model.predict(x_test)\n",
        "\n",
        "# shift train predictions for plotting\n",
        "y_train_pred_plot = np.empty_like(dataset)\n",
        "y_train_pred_plot[:,:] = np.nan\n",
        "y_train_pred_plot[n_x-1:len(y_train_pred)+n_x-1, :] = y_train_pred\n",
        "\n",
        "# shift test predictions for plotting\n",
        "y_test_pred_plot = np.empty_like(dataset)\n",
        "y_test_pred_plot[:,:] = np.nan\n",
        "y_test_pred_plot[len(y_train_pred)+(n_x*2)-1:len(dataset)-1, :] = y_test_pred"
      ],
      "execution_count": 0,
      "outputs": []
    },
    {
      "metadata": {
        "id": "F2CoSwhcik3O",
        "colab_type": "code",
        "colab": {
          "base_uri": "https://localhost:8080/",
          "height": 629
        },
        "outputId": "5b6d5962-2483-4872-ec54-99db3415bef1"
      },
      "cell_type": "code",
      "source": [
        "plt.plot(dataset, label='Original Data')\n",
        "plt.plot(y_train_pred_plot, label='y_train_pred')\n",
        "plt.plot(y_test_pred_plot, label='y_test_pred')\n",
        "plt.legend()"
      ],
      "execution_count": 90,
      "outputs": [
        {
          "output_type": "execute_result",
          "data": {
            "text/plain": [
              "<matplotlib.legend.Legend at 0x7f20fc60b9e8>"
            ]
          },
          "metadata": {
            "tags": []
          },
          "execution_count": 90
        },
        {
          "output_type": "display_data",
          "data": {
            "image/png": "[encoded data removed]",
            "text/plain": [
              "<matplotlib.figure.Figure at 0x7f20fc6a6320>"
            ]
          },
          "metadata": {
            "tags": []
          }
        }
      ]
    }
  ]
}