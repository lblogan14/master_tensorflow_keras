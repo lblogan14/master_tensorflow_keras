{
  "nbformat": 4,
  "nbformat_minor": 0,
  "metadata": {
    "colab": {
      "name": "ch10_autoencoder.ipynb",
      "version": "0.3.2",
      "provenance": [],
      "include_colab_link": true
    },
    "kernelspec": {
      "name": "python3",
      "display_name": "Python 3"
    },
    "accelerator": "GPU"
  },
  "cells": [
    {
      "cell_type": "markdown",
      "metadata": {
        "id": "view-in-github",
        "colab_type": "text"
      },
      "source": [
        "<a href=\"https://colab.research.google.com/github/lblogan14/master_tensorflow_keras/blob/master/ch10_autoencoder.ipynb\" target=\"_parent\"><img src=\"https://colab.research.google.com/assets/colab-badge.svg\" alt=\"Open In Colab\"/></a>"
      ]
    },
    {
      "metadata": {
        "id": "GfMmt4DNKbiV",
        "colab_type": "text"
      },
      "cell_type": "markdown",
      "source": [
        "###Code Prerequisite"
      ]
    },
    {
      "metadata": {
        "id": "kuMC-9LuKfE6",
        "colab_type": "code",
        "colab": {
          "base_uri": "https://localhost:8080/",
          "height": 102
        },
        "outputId": "c77f6af3-ed24-488a-cf97-7c171d143a72"
      },
      "cell_type": "code",
      "source": [
        "import os\n",
        "\n",
        "import numpy as np\n",
        "np.random.seed(123)\n",
        "print(\"NumPy:{}\".format(np.__version__))\n",
        "\n",
        "import matplotlib as mpl\n",
        "import matplotlib.pyplot as plt\n",
        "from matplotlib.pylab import rcParams\n",
        "rcParams['figure.figsize']=15,10\n",
        "print(\"Matplotlib:{}\".format(mpl.__version__))\n",
        "\n",
        "import tensorflow as tf\n",
        "tf.set_random_seed(123)\n",
        "print(\"TensorFlow:{}\".format(tf.__version__))\n",
        "\n",
        "import keras\n",
        "print(\"Keras:{}\".format(keras.__version__))"
      ],
      "execution_count": 1,
      "outputs": [
        {
          "output_type": "stream",
          "text": [
            "NumPy:1.14.6\n",
            "Matplotlib:2.1.2\n",
            "TensorFlow:1.12.0\n",
            "Keras:2.2.4\n"
          ],
          "name": "stdout"
        },
        {
          "output_type": "stream",
          "text": [
            "Using TensorFlow backend.\n"
          ],
          "name": "stderr"
        }
      ]
    },
    {
      "metadata": {
        "id": "K1_nzEraGzVu",
        "colab_type": "text"
      },
      "cell_type": "markdown",
      "source": [
        "Autoencoder is a neural network architecture that is often associated with unsupervised\n",
        "learning, dimensionality reduction, and data compression. Autoencoders learn to produce\n",
        "the same output as given to the input layer by using lesser number of neurons in the hidden\n",
        "layers. This allows hidden layers to learn the features of input with lesser number of\n",
        "parameters. This process of using lesser number of neurons to learn the features of the input\n",
        "data, in turn, reduces the dimensionality of the input dataset."
      ]
    },
    {
      "metadata": {
        "id": "NhqC4CLMG4XC",
        "colab_type": "text"
      },
      "cell_type": "markdown",
      "source": [
        "An autoencoder architecture has two stages: encoder and decoder. In the encoder stage, the\n",
        "model learns to represent the input to a compressed vector with lesser dimensions, and in\n",
        "the decoder stage, the model learns to represent the compressed vector to an output vector."
      ]
    },
    {
      "metadata": {
        "id": "lPsQ8uKXG-VY",
        "colab_type": "text"
      },
      "cell_type": "markdown",
      "source": [
        "The loss is calculated as entropy distance between the output and input, thus by\n",
        "minimizing the loss, we learn parameters that encode the input into a representation that is\n",
        "capable of producing the input back, with yet another set of learned parameters."
      ]
    },
    {
      "metadata": {
        "id": "YTGya9TMHAkp",
        "colab_type": "text"
      },
      "cell_type": "markdown",
      "source": [
        "#Autoencoder types\n",
        "* **Simple autoencoder**: the hidden layers have lesser number of nodes or neurons as compared to the input. Simple autoencoders are also known as *undercomplete autoencoders*\n",
        " * Single-layer autoencoder generally does not perform well\n",
        " * Multi-layer autoencoder has more than one hidden layer, divided into encoder and decoder groupings.\n",
        "Encoder layers encode a large number of features into a smaller number of\n",
        "neurons, and decoder layers then decode the learned compressed features back\n",
        "into the original or a reduced number of features. Multi-layer autoencoder is\n",
        "known as the **stacked autoencoder**.\n",
        "\n",
        "* **Sparse autoencoder**: a regularization term is added as the\n",
        "penalty and hence, the representation becomes more sparse as compared to\n",
        "simple autoencoders.\n",
        "* **Denoising autoencoder** (DAE): the input is introduced with stochastic noise. The DAE recreates the input and attempts to remove noise. The loss function in the DAE compares the denoised recreated output to the original uncorrupted input.\n",
        "* **Convolutional autoencoder** (CAE): use convolutional layers to create an autoencoder. For example, a simple CAE can have a structure like, \\\\\n",
        "*input -> convolution -> pooling -> convolution -> pooling -> output* \\\\\n",
        "The first set of convolution and pooling layers acts as the encoder, reducing the\n",
        "high-dimensional input feature space to low dimensional feature space. The\n",
        "second set of convolutional and pooling layers acts as the decoder, converting it\n",
        "back to high-dimensional feature space.\n",
        "* **Variational autoencoder** (VAE): VAE is a kind of generative\n",
        "model, that is, it produces parameters of the probability distribution from which\n",
        "the original data or the data very similar to original data can be generated. In a VAE, the encoder turns the input samples into parameters in latent space\n",
        "using which the latent points are sampled. The decoder then uses the latent\n",
        "points to regenerate the original input data. Hence, the focus of learning in VAE\n",
        "shifts to maximizing the probability of the input data in place of trying to recreate\n",
        "the output from input."
      ]
    },
    {
      "metadata": {
        "id": "5tnANs9DLCvY",
        "colab_type": "text"
      },
      "cell_type": "markdown",
      "source": [
        "#MNIST data Preparation"
      ]
    },
    {
      "metadata": {
        "id": "X888dGnZLFdZ",
        "colab_type": "code",
        "colab": {
          "base_uri": "https://localhost:8080/",
          "height": 85
        },
        "outputId": "e7064d0f-1636-4279-9fe4-8978d84cc954"
      },
      "cell_type": "code",
      "source": [
        "from tensorflow.examples.tutorials.mnist import input_data\n",
        "mnist = input_data.read_data_sets('mnist', one_hot=False)\n",
        "\n",
        "x_train = mnist.train.images\n",
        "x_test = mnist.test.images\n",
        "y_train = mnist.train.labels\n",
        "y_test = mnist.test.images\n",
        "\n",
        "pixel_size = 28"
      ],
      "execution_count": 3,
      "outputs": [
        {
          "output_type": "stream",
          "text": [
            "Extracting mnist/train-images-idx3-ubyte.gz\n",
            "Extracting mnist/train-labels-idx1-ubyte.gz\n",
            "Extracting mnist/t10k-images-idx3-ubyte.gz\n",
            "Extracting mnist/t10k-labels-idx1-ubyte.gz\n"
          ],
          "name": "stdout"
        }
      ]
    },
    {
      "metadata": {
        "id": "HGNPN_zgLinj",
        "colab_type": "text"
      },
      "cell_type": "markdown",
      "source": [
        "Extract four distinct images and their respective labels from training and test datasets:"
      ]
    },
    {
      "metadata": {
        "id": "rOaBbgHvLkwq",
        "colab_type": "code",
        "colab": {}
      },
      "cell_type": "code",
      "source": [
        "while True:\n",
        "  train_images, train_labels = mnist.train.next_batch(4)\n",
        "  if len(set(train_labels)) == 4:\n",
        "    break\n",
        "while True:\n",
        "  test_images, test_labels = mnist.test.next_batch(4)\n",
        "  if len(set(test_labels)) == 4:\n",
        "    break"
      ],
      "execution_count": 0,
      "outputs": []
    },
    {
      "metadata": {
        "id": "faYpEcGLMcGv",
        "colab_type": "text"
      },
      "cell_type": "markdown",
      "source": [
        "Create a help function to plot the extracted images"
      ]
    },
    {
      "metadata": {
        "id": "om3rOQ1cMZme",
        "colab_type": "code",
        "colab": {}
      },
      "cell_type": "code",
      "source": [
        "import random\n",
        "\n",
        "# function to display the images and labels\n",
        "# images should be in NHW or NHWC format\n",
        "def display_images(images, labels, count=0, one_hot=False):\n",
        "  # if number of images to display is not provided, then display all images\n",
        "  if count==0:\n",
        "    count = images.shape[0]\n",
        "    \n",
        "  idx_list = random.sample(range(len(labels)), count)\n",
        "  for i in range(count):\n",
        "    plt.subplot(4, 4, i+1)\n",
        "    plt.title(labels[i])\n",
        "    plt.imshow(images[i])\n",
        "    plt.axis('off')\n",
        "  plt.tight_layout\n",
        "  plt.show()"
      ],
      "execution_count": 0,
      "outputs": []
    },
    {
      "metadata": {
        "id": "7EYhxQdNL-m6",
        "colab_type": "text"
      },
      "cell_type": "markdown",
      "source": [
        "#Stacked autoencoder in TensorFlow"
      ]
    },
    {
      "metadata": {
        "id": "krdp_9TZNrMh",
        "colab_type": "code",
        "colab": {}
      },
      "cell_type": "code",
      "source": [
        "# parameters\n",
        "learning_rate = 0.001\n",
        "n_epochs = 20\n",
        "batch_size = 100\n",
        "n_batches = int(mnist.train.num_examples/batch_size)"
      ],
      "execution_count": 0,
      "outputs": []
    },
    {
      "metadata": {
        "id": "MrrzWclTNzZ5",
        "colab_type": "code",
        "colab": {}
      },
      "cell_type": "code",
      "source": [
        "# number of pixels in the MNIST images as number of inputs\n",
        "n_inputs = 28*28\n",
        "n_outputs = n_inputs"
      ],
      "execution_count": 0,
      "outputs": []
    },
    {
      "metadata": {
        "id": "_lxYtsnfRdEg",
        "colab_type": "code",
        "colab": {}
      },
      "cell_type": "code",
      "source": [
        "tf.reset_default_graph()"
      ],
      "execution_count": 0,
      "outputs": []
    },
    {
      "metadata": {
        "id": "ZtDw7xnxORxo",
        "colab_type": "code",
        "colab": {}
      },
      "cell_type": "code",
      "source": [
        "# input images\n",
        "x = tf.placeholder(dtype=tf.float32, name='x', shape=[None, n_inputs])\n",
        "# output images\n",
        "y = tf.placeholder(dtype=tf.float32, name='y', shape=[None, n_outputs])"
      ],
      "execution_count": 0,
      "outputs": []
    },
    {
      "metadata": {
        "id": "cx6v4gJmOhCw",
        "colab_type": "text"
      },
      "cell_type": "markdown",
      "source": [
        "Add the number of neurons for encoder and decoder layers as\n",
        "`[512,256,256,512]`:"
      ]
    },
    {
      "metadata": {
        "id": "owSsMTqiOkqf",
        "colab_type": "code",
        "colab": {}
      },
      "cell_type": "code",
      "source": [
        "# number of hidden layers\n",
        "n_layers = 2\n",
        "# neurons in each hidden layer\n",
        "n_neurons = [512, 256]\n",
        "# add decoder layers\n",
        "n_neurons.extend(list(reversed(n_neurons)))\n",
        "n_layers = n_layers * 2"
      ],
      "execution_count": 0,
      "outputs": []
    },
    {
      "metadata": {
        "id": "Yq2EBFBwO5BU",
        "colab_type": "text"
      },
      "cell_type": "markdown",
      "source": [
        "Define the `w` and `b` parameters:"
      ]
    },
    {
      "metadata": {
        "id": "xwOkf4dfO8q4",
        "colab_type": "code",
        "colab": {}
      },
      "cell_type": "code",
      "source": [
        "w = []\n",
        "b = []\n",
        "\n",
        "for i in range(n_layers):\n",
        "  w.append(tf.Variable(tf.random_normal([n_inputs if i==0 else n_neurons[i-1],\n",
        "                                         n_neurons[i]]),\n",
        "                      name='w_{0:04d}'.format(i)\n",
        "                      )\n",
        "          )\n",
        "  b.append(tf.Variable(tf.zeros([n_neurons[i]]),\n",
        "                      name='b_{0:04d}'.format(i)\n",
        "                      )\n",
        "          )\n",
        "  \n",
        "w.append(tf.Variable(tf.random_normal([n_neurons[n_layers-1] if n_layers > 0 else n_inputs,\n",
        "                                       n_outputs]),\n",
        "                    name='w_out'\n",
        "                    )\n",
        "        )\n",
        "b.append(tf.Variable(tf.zeros([n_outputs]),\n",
        "                    name='b_out'\n",
        "                    )\n",
        "        )"
      ],
      "execution_count": 0,
      "outputs": []
    },
    {
      "metadata": {
        "id": "3I_EAtprQBI9",
        "colab_type": "text"
      },
      "cell_type": "markdown",
      "source": [
        "Build the network and use sigmoid activation function for each layer"
      ]
    },
    {
      "metadata": {
        "id": "lNeCW87IQFfm",
        "colab_type": "code",
        "colab": {}
      },
      "cell_type": "code",
      "source": [
        "# x is input layer\n",
        "layer = x\n",
        "# add hidden layer\n",
        "for i in range(n_layers):\n",
        "  layer = tf.nn.sigmoid(tf.matmul(layer, w[i]) + b[i])\n",
        "# add output layer\n",
        "layer = tf.nn.sigmoid(tf.matmul(layer, w[n_layers]) + b[n_layers])\n",
        "model = layer"
      ],
      "execution_count": 0,
      "outputs": []
    },
    {
      "metadata": {
        "id": "SSI2AfI8QfWL",
        "colab_type": "text"
      },
      "cell_type": "markdown",
      "source": [
        "Define the `loss` funciton using `mean_square_error` and the `optimizer` function using `AdamOptimizer`"
      ]
    },
    {
      "metadata": {
        "id": "U3jSWUtKQoi-",
        "colab_type": "code",
        "colab": {}
      },
      "cell_type": "code",
      "source": [
        "mse = tf.losses.mean_squared_error\n",
        "loss = mse(predictions=model, labels=y)\n",
        "optimizer = tf.train.AdamOptimizer(learning_rate=learning_rate)\n",
        "optimizer = optimizer.minimize(loss)"
      ],
      "execution_count": 0,
      "outputs": []
    },
    {
      "metadata": {
        "id": "zX0E1ax8Q0RO",
        "colab_type": "text"
      },
      "cell_type": "markdown",
      "source": [
        "Train the model,"
      ]
    },
    {
      "metadata": {
        "id": "LlOV4aq9Q1qG",
        "colab_type": "code",
        "colab": {
          "base_uri": "https://localhost:8080/",
          "height": 68
        },
        "outputId": "afd77a8d-7646-4374-e61d-fee1633f7bbb"
      },
      "cell_type": "code",
      "source": [
        "with tf.Session() as tfs:\n",
        "    tf.global_variables_initializer().run()\n",
        "    for epoch in range(n_epochs):\n",
        "        epoch_loss = 0.0\n",
        "        for batch in range(n_batches):\n",
        "            x_batch, _ = mnist.train.next_batch(batch_size)\n",
        "            feed_dict={x: x_batch,y: x_batch}\n",
        "            batch_loss, _ = tfs.run([loss, optimizer], feed_dict)\n",
        "            epoch_loss += batch_loss \n",
        "        if (epoch%10==9) or (epoch==0):\n",
        "            average_loss = epoch_loss / n_batches\n",
        "            print('epoch: {0:04d}   loss = {1:0.6f}'\n",
        "                  .format(epoch,\n",
        "                          average_loss))\n",
        "\n",
        "    # predict images using trained autoencoder model for later plotting           \n",
        "    y_train_pred = tfs.run(model, feed_dict={x: train_images})\n",
        "    y_test_pred = tfs.run(model, feed_dict={x: test_images})"
      ],
      "execution_count": 44,
      "outputs": [
        {
          "output_type": "stream",
          "text": [
            "epoch: 0000   loss = 0.144407\n",
            "epoch: 0009   loss = 0.087657\n",
            "epoch: 0019   loss = 0.074746\n"
          ],
          "name": "stdout"
        }
      ]
    },
    {
      "metadata": {
        "id": "qN83SaFFRmL6",
        "colab_type": "text"
      },
      "cell_type": "markdown",
      "source": [
        "Display the  train images,\n",
        "\n",
        "The first row indicates the actual images and second row indicates the generated images:"
      ]
    },
    {
      "metadata": {
        "id": "Li7yZqOoRoQV",
        "colab_type": "code",
        "colab": {
          "base_uri": "https://localhost:8080/",
          "height": 423
        },
        "outputId": "0e1f61e3-bf53-4118-e54a-184c8fea64b2"
      },
      "cell_type": "code",
      "source": [
        "display_images(train_images.reshape(-1,pixel_size,pixel_size),train_labels)\n",
        "display_images(y_train_pred.reshape(-1,pixel_size,pixel_size),train_labels)"
      ],
      "execution_count": 45,
      "outputs": [
        {
          "output_type": "display_data",
          "data": {
            "image/png": "[encoded data removed]",
            "text/plain": [
              "<matplotlib.figure.Figure at 0x7f20c3dd6208>"
            ]
          },
          "metadata": {
            "tags": []
          }
        },
        {
          "output_type": "display_data",
          "data": {
            "image/png": "[encoded data removed]",
            "text/plain": [
              "<matplotlib.figure.Figure at 0x7f20aad59198>"
            ]
          },
          "metadata": {
            "tags": []
          }
        }
      ]
    },
    {
      "metadata": {
        "id": "dfxCLg6LSMzi",
        "colab_type": "text"
      },
      "cell_type": "markdown",
      "source": [
        "The images generated have a little bit of noise that can be removed with more training and\n",
        "hyper-parameter tuning.\n",
        "\n",
        "The resul of predicting the test set images,"
      ]
    },
    {
      "metadata": {
        "id": "wnhk7UjHUqw8",
        "colab_type": "code",
        "colab": {
          "base_uri": "https://localhost:8080/",
          "height": 423
        },
        "outputId": "1f341b73-ae67-40c0-ae7a-8f075d9a1f4d"
      },
      "cell_type": "code",
      "source": [
        "display_images(test_images.reshape(-1,pixel_size,pixel_size),test_labels)\n",
        "display_images(y_test_pred.reshape(-1,pixel_size,pixel_size),test_labels)"
      ],
      "execution_count": 46,
      "outputs": [
        {
          "output_type": "display_data",
          "data": {
            "image/png": "[encoded data removed]",
            "text/plain": [
              "<matplotlib.figure.Figure at 0x7f20aa3b4710>"
            ]
          },
          "metadata": {
            "tags": []
          }
        },
        {
          "output_type": "display_data",
          "data": {
            "image/png": "[encoded data removed]",
            "text/plain": [
              "<matplotlib.figure.Figure at 0x7f20aa2c0550>"
            ]
          },
          "metadata": {
            "tags": []
          }
        }
      ]
    },
    {
      "metadata": {
        "id": "-Jxx8o_KU1KY",
        "colab_type": "text"
      },
      "cell_type": "markdown",
      "source": [
        "#Stacked autoencoder in Keras"
      ]
    },
    {
      "metadata": {
        "id": "945htd64VGik",
        "colab_type": "code",
        "colab": {}
      },
      "cell_type": "code",
      "source": [
        "tf.reset_default_graph()\n",
        "keras.backend.clear_session()"
      ],
      "execution_count": 0,
      "outputs": []
    },
    {
      "metadata": {
        "id": "ZXqQiuUmVSeh",
        "colab_type": "code",
        "colab": {}
      },
      "cell_type": "code",
      "source": [
        "import keras\n",
        "from keras.layers import Dense\n",
        "from keras.models import Sequential\n",
        "\n",
        "# parameters\n",
        "learning_rate = 0.001\n",
        "n_epochs = 20\n",
        "batch_size = 100\n",
        "n_batches = int(mnist.train.num_examples/batch_size)\n",
        "\n",
        "# number of pixels in the MNIST image as number of inputs\n",
        "n_inputs = 784\n",
        "n_outputs = n_inputs\n",
        "\n",
        "# number of hidden layers\n",
        "n_layers = 2\n",
        "# neurons in each hidden layer\n",
        "n_neurons = [512,256]\n",
        "# add decoder layers:\n",
        "n_neurons.extend(list(reversed(n_neurons)))\n",
        "n_layers = n_layers * 2"
      ],
      "execution_count": 0,
      "outputs": []
    },
    {
      "metadata": {
        "id": "XvCV9knSV5oR",
        "colab_type": "code",
        "colab": {}
      },
      "cell_type": "code",
      "source": [
        "model = Sequential()\n",
        "# add input to first layer\n",
        "model.add(Dense(units=n_neurons[0], activation='relu',\n",
        "                input_shape=(n_inputs,)))\n",
        "# add rest of hidden layers\n",
        "for i in range(1, n_layers):\n",
        "  model.add(Dense(units=n_neurons[i], activation='relu'))\n",
        "  \n",
        "# add last layer as output layer\n",
        "model.add(Dense(units=n_outputs, activation='linear'))"
      ],
      "execution_count": 0,
      "outputs": []
    },
    {
      "metadata": {
        "id": "jraxHWuRWnjX",
        "colab_type": "text"
      },
      "cell_type": "markdown",
      "source": [
        "The difference here is to use `relu` activation for the hidden layers and `linear` activation for the final\n",
        "layer:"
      ]
    },
    {
      "metadata": {
        "id": "qNK4QyakWvG0",
        "colab_type": "code",
        "colab": {
          "base_uri": "https://localhost:8080/",
          "height": 306
        },
        "outputId": "d62445d6-030f-4619-cb27-5d4787b6b25b"
      },
      "cell_type": "code",
      "source": [
        "model.summary()"
      ],
      "execution_count": 50,
      "outputs": [
        {
          "output_type": "stream",
          "text": [
            "_________________________________________________________________\n",
            "Layer (type)                 Output Shape              Param #   \n",
            "=================================================================\n",
            "dense_1 (Dense)              (None, 512)               401920    \n",
            "_________________________________________________________________\n",
            "dense_2 (Dense)              (None, 256)               131328    \n",
            "_________________________________________________________________\n",
            "dense_3 (Dense)              (None, 256)               65792     \n",
            "_________________________________________________________________\n",
            "dense_4 (Dense)              (None, 512)               131584    \n",
            "_________________________________________________________________\n",
            "dense_5 (Dense)              (None, 784)               402192    \n",
            "=================================================================\n",
            "Total params: 1,132,816\n",
            "Trainable params: 1,132,816\n",
            "Non-trainable params: 0\n",
            "_________________________________________________________________\n"
          ],
          "name": "stdout"
        }
      ]
    },
    {
      "metadata": {
        "id": "IWIGxNmHWzp9",
        "colab_type": "code",
        "colab": {
          "base_uri": "https://localhost:8080/",
          "height": 697
        },
        "outputId": "4c03b1d1-343f-4f05-bbf7-4c427762118e"
      },
      "cell_type": "code",
      "source": [
        "model.compile(loss='mse',\n",
        "              optimizer=keras.optimizers.Adam(lr=learning_rate),\n",
        "              metrics=['accuracy'])\n",
        "model.fit(x_train, x_train, batch_size=batch_size, epochs=n_epochs)\n",
        "\n",
        "y_train_pred = model.predict(train_images)\n",
        "y_test_pred = model.predict(test_images)"
      ],
      "execution_count": 52,
      "outputs": [
        {
          "output_type": "stream",
          "text": [
            "Epoch 1/20\n",
            "55000/55000 [==============================] - 5s 86us/step - loss: 0.0197 - acc: 0.0129\n",
            "Epoch 2/20\n",
            "55000/55000 [==============================] - 5s 83us/step - loss: 0.0086 - acc: 0.0136\n",
            "Epoch 3/20\n",
            "55000/55000 [==============================] - 4s 81us/step - loss: 0.0070 - acc: 0.0142\n",
            "Epoch 4/20\n",
            "55000/55000 [==============================] - 4s 81us/step - loss: 0.0063 - acc: 0.0143\n",
            "Epoch 5/20\n",
            "55000/55000 [==============================] - 4s 82us/step - loss: 0.0058 - acc: 0.0148\n",
            "Epoch 6/20\n",
            "55000/55000 [==============================] - 4s 82us/step - loss: 0.0054 - acc: 0.0153\n",
            "Epoch 7/20\n",
            "55000/55000 [==============================] - 4s 81us/step - loss: 0.0052 - acc: 0.0158\n",
            "Epoch 8/20\n",
            "55000/55000 [==============================] - 4s 82us/step - loss: 0.0050 - acc: 0.0157\n",
            "Epoch 9/20\n",
            "55000/55000 [==============================] - 4s 81us/step - loss: 0.0048 - acc: 0.0166\n",
            "Epoch 10/20\n",
            "55000/55000 [==============================] - 4s 81us/step - loss: 0.0047 - acc: 0.0157\n",
            "Epoch 11/20\n",
            "55000/55000 [==============================] - 4s 81us/step - loss: 0.0046 - acc: 0.0167\n",
            "Epoch 12/20\n",
            "55000/55000 [==============================] - 4s 82us/step - loss: 0.0045 - acc: 0.0172\n",
            "Epoch 13/20\n",
            "55000/55000 [==============================] - 5s 83us/step - loss: 0.0045 - acc: 0.0170\n",
            "Epoch 14/20\n",
            "55000/55000 [==============================] - 5s 84us/step - loss: 0.0044 - acc: 0.0167\n",
            "Epoch 15/20\n",
            "55000/55000 [==============================] - 5s 83us/step - loss: 0.0044 - acc: 0.0167\n",
            "Epoch 16/20\n",
            "55000/55000 [==============================] - 4s 81us/step - loss: 0.0043 - acc: 0.0170\n",
            "Epoch 17/20\n",
            "55000/55000 [==============================] - 4s 82us/step - loss: 0.0043 - acc: 0.0170\n",
            "Epoch 18/20\n",
            "55000/55000 [==============================] - 4s 81us/step - loss: 0.0043 - acc: 0.0162\n",
            "Epoch 19/20\n",
            "55000/55000 [==============================] - 4s 81us/step - loss: 0.0042 - acc: 0.0167\n",
            "Epoch 20/20\n",
            "55000/55000 [==============================] - 4s 81us/step - loss: 0.0042 - acc: 0.0166\n"
          ],
          "name": "stdout"
        }
      ]
    },
    {
      "metadata": {
        "id": "YLgGPHL1XW8H",
        "colab_type": "text"
      },
      "cell_type": "markdown",
      "source": [
        "Display the train and test images generated by the model."
      ]
    },
    {
      "metadata": {
        "id": "JRM4W2rGXOGi",
        "colab_type": "code",
        "colab": {
          "base_uri": "https://localhost:8080/",
          "height": 423
        },
        "outputId": "2cf066e9-4f5b-452a-9d67-39ffaf41abb7"
      },
      "cell_type": "code",
      "source": [
        "display_images(train_images.reshape(-1,pixel_size,pixel_size),train_labels)\n",
        "display_images(y_train_pred.reshape(-1,pixel_size,pixel_size),train_labels)"
      ],
      "execution_count": 53,
      "outputs": [
        {
          "output_type": "display_data",
          "data": {
            "image/png": "[encoded data removed]",
            "text/plain": [
              "<matplotlib.figure.Figure at 0x7f20ab6abf60>"
            ]
          },
          "metadata": {
            "tags": []
          }
        },
        {
          "output_type": "display_data",
          "data": {
            "image/png": "[encoded data removed]",
            "text/plain": [
              "<matplotlib.figure.Figure at 0x7f20ab6ab828>"
            ]
          },
          "metadata": {
            "tags": []
          }
        }
      ]
    },
    {
      "metadata": {
        "id": "pwzf3gpvXQld",
        "colab_type": "code",
        "colab": {
          "base_uri": "https://localhost:8080/",
          "height": 423
        },
        "outputId": "7e5032b3-4726-49ea-c7ae-527f293d30fd"
      },
      "cell_type": "code",
      "source": [
        "display_images(test_images.reshape(-1,pixel_size,pixel_size),test_labels)\n",
        "display_images(y_test_pred.reshape(-1,pixel_size,pixel_size),test_labels)"
      ],
      "execution_count": 54,
      "outputs": [
        {
          "output_type": "display_data",
          "data": {
            "image/png": "[encoded data removed]",
            "text/plain": [
              "<matplotlib.figure.Figure at 0x7f20c019fd30>"
            ]
          },
          "metadata": {
            "tags": []
          }
        },
        {
          "output_type": "display_data",
          "data": {
            "image/png": "[encoded data removed]",
            "text/plain": [
              "<matplotlib.figure.Figure at 0x7f20c019f198>"
            ]
          },
          "metadata": {
            "tags": []
          }
        }
      ]
    },
    {
      "metadata": {
        "id": "WUaUIOTdXvoB",
        "colab_type": "text"
      },
      "cell_type": "markdown",
      "source": [
        "#Denoising autoencoder in TensorFlow\n",
        "\n",
        "Add noise to images"
      ]
    },
    {
      "metadata": {
        "id": "n3j1yA1cYavX",
        "colab_type": "code",
        "colab": {}
      },
      "cell_type": "code",
      "source": [
        "def add_noise(x):\n",
        "  return x + 0.5 * np.random.randn(x.shape[0], x.shape[1])"
      ],
      "execution_count": 0,
      "outputs": []
    },
    {
      "metadata": {
        "id": "yu9KpUorYvM3",
        "colab_type": "code",
        "colab": {}
      },
      "cell_type": "code",
      "source": [
        "test_images_noisy = add_noise(test_images)"
      ],
      "execution_count": 0,
      "outputs": []
    },
    {
      "metadata": {
        "id": "He9bv_3aY6rw",
        "colab_type": "text"
      },
      "cell_type": "markdown",
      "source": [
        "Use these test images to test the output from our denoising model examples."
      ]
    },
    {
      "metadata": {
        "id": "ITiDlBmxY-Ho",
        "colab_type": "text"
      },
      "cell_type": "markdown",
      "source": [
        "The training difference from stacked autoencoder is to use the noisy images as input for the input layer and check the reconstruction and denoising error with the non-noisy images while in the training session:\n",
        "\n",
        "Thus, inside the `Session()`:\n",
        "\n",
        "    x_batch, _ = mnist.train.next_batch(batch_size)\n",
        "    x_batch_noisy = add_noise(x_batch)\n",
        "    feed_dict = {x:x_batch_noisy, y:x_batch}\n",
        "    batch_loss, _ = tfs.run([loss, optimizer], feed_dict=feed_dict)"
      ]
    },
    {
      "metadata": {
        "id": "qO2ZcOtJZ1CT",
        "colab_type": "code",
        "colab": {}
      },
      "cell_type": "code",
      "source": [
        "tf.reset_default_graph()\n",
        "keras.backend.clear_session()"
      ],
      "execution_count": 0,
      "outputs": []
    },
    {
      "metadata": {
        "id": "1A7bBmbDZ3Ef",
        "colab_type": "code",
        "colab": {}
      },
      "cell_type": "code",
      "source": [
        "# hyperparameters\n",
        "learning_rate = 0.001\n",
        "batch_size = 100\n",
        "n_batches = int(mnist.train.num_examples/batch_size)\n",
        "\n",
        "# number of pixels in the MNIST image as number of inputs\n",
        "n_inputs = 784\n",
        "n_outputs = n_inputs\n",
        "\n",
        "# input images\n",
        "x = tf.placeholder(dtype=tf.float32, name=\"x\", shape=[None, n_inputs]) \n",
        "\n",
        "# output images\n",
        "y = tf.placeholder(dtype=tf.float32, name=\"y\", shape=[None, n_outputs]) \n",
        "\n",
        "# number of hidden layers\n",
        "n_layers = 2\n",
        "# neurons in each hidden layer\n",
        "n_neurons = [512,256]\n",
        "\n",
        "# add decoder layers:\n",
        "n_neurons.extend(list(reversed(n_neurons)))\n",
        "n_layers = n_layers * 2"
      ],
      "execution_count": 0,
      "outputs": []
    },
    {
      "metadata": {
        "id": "BoHCHgHRZ5mW",
        "colab_type": "code",
        "colab": {}
      },
      "cell_type": "code",
      "source": [
        "w=[]\n",
        "b=[]\n",
        "\n",
        "for i in range(n_layers):\n",
        "    # weights\n",
        "    w.append(tf.Variable(tf.random_normal([n_inputs if i==0 else n_neurons[i-1],\n",
        "                                           n_neurons[i]]),\n",
        "                         name=\"w_{0:04d}\".format(i) \n",
        "                        )\n",
        "            ) \n",
        "    # biases\n",
        "    b.append(tf.Variable(tf.zeros([n_neurons[i]]),\n",
        "                         name=\"b_{0:04d}\".format(i) \n",
        "                        )\n",
        "            )                   \n",
        "w.append(tf.Variable(tf.random_normal([n_neurons[n_layers-1] if n_layers > 0 else n_inputs,\n",
        "                                       n_outputs]),\n",
        "                     name=\"w_out\"\n",
        "                    )\n",
        "        )\n",
        "b.append(tf.Variable(tf.zeros([n_outputs]),name=\"b_out\"))"
      ],
      "execution_count": 0,
      "outputs": []
    },
    {
      "metadata": {
        "id": "VRSwSBB0Z95F",
        "colab_type": "code",
        "colab": {}
      },
      "cell_type": "code",
      "source": [
        "# x is input layer\n",
        "layer = x\n",
        "\n",
        "# add hidden layers\n",
        "for i in range(n_layers):\n",
        "    layer = tf.nn.sigmoid(tf.matmul(layer, w[i]) + b[i]) \n",
        "\n",
        "# add output layer\n",
        "layer = tf.nn.sigmoid(tf.matmul(layer, w[n_layers]) + b[n_layers])\n",
        "    \n",
        "model = layer"
      ],
      "execution_count": 0,
      "outputs": []
    },
    {
      "metadata": {
        "id": "QNktAL-NaALN",
        "colab_type": "code",
        "colab": {}
      },
      "cell_type": "code",
      "source": [
        "mse=tf.losses.mean_squared_error\n",
        "loss = mse(predictions=model, labels=y)\n",
        "optimizer = tf.train.AdamOptimizer(learning_rate=learning_rate)\n",
        "optimizer = optimizer.minimize(loss)"
      ],
      "execution_count": 0,
      "outputs": []
    },
    {
      "metadata": {
        "id": "HU_2tCZnaChv",
        "colab_type": "code",
        "colab": {
          "base_uri": "https://localhost:8080/",
          "height": 204
        },
        "outputId": "9b9f36f5-255b-4b0b-df55-c433c2b700ac"
      },
      "cell_type": "code",
      "source": [
        "n_epochs = 100\n",
        "\n",
        "with tf.Session() as tfs:\n",
        "    tf.global_variables_initializer().run()\n",
        "    for epoch in range(n_epochs):\n",
        "        epoch_loss = 0.0\n",
        "        for batch in range(n_batches):\n",
        "            x_batch, _ = mnist.train.next_batch(batch_size)\n",
        "            x_batch_noisy = add_noise(x_batch)\n",
        "            feed_dict={x: x_batch_noisy, y: x_batch}\n",
        "            _,batch_loss = tfs.run([optimizer,loss], feed_dict=feed_dict)\n",
        "            epoch_loss += batch_loss \n",
        "        if (epoch%10==9) or (epoch==0):\n",
        "            average_loss = epoch_loss / n_batches\n",
        "            print('epoch: {0:04d}   loss = {1:0.6f}'\n",
        "                  .format(epoch,average_loss))\n",
        "            \n",
        "    y_test_pred1 = tfs.run(model, feed_dict={x: test_images})\n",
        "    y_test_pred2 = tfs.run(model, feed_dict={x: test_images_noisy})"
      ],
      "execution_count": 62,
      "outputs": [
        {
          "output_type": "stream",
          "text": [
            "epoch: 0000   loss = 0.145800\n",
            "epoch: 0009   loss = 0.096470\n",
            "epoch: 0019   loss = 0.086858\n",
            "epoch: 0029   loss = 0.082124\n",
            "epoch: 0039   loss = 0.079159\n",
            "epoch: 0049   loss = 0.077475\n",
            "epoch: 0059   loss = 0.076212\n",
            "epoch: 0069   loss = 0.074691\n",
            "epoch: 0079   loss = 0.073923\n",
            "epoch: 0089   loss = 0.071757\n",
            "epoch: 0099   loss = 0.071126\n"
          ],
          "name": "stdout"
        }
      ]
    },
    {
      "metadata": {
        "id": "7mX2Utp6af13",
        "colab_type": "text"
      },
      "cell_type": "markdown",
      "source": [
        "Display the test images generated from the DAE model;\n",
        "\n",
        "First row: the original non-noisy test images \\\\\n",
        "Second row: the generated test\n",
        "images:"
      ]
    },
    {
      "metadata": {
        "id": "25cGrkcvaqf1",
        "colab_type": "code",
        "colab": {
          "base_uri": "https://localhost:8080/",
          "height": 423
        },
        "outputId": "24b76573-af7a-4c79-81a8-23303c18b60d"
      },
      "cell_type": "code",
      "source": [
        "display_images(test_images.reshape(-1,pixel_size,pixel_size),test_labels)\n",
        "display_images(y_test_pred1.reshape(-1,pixel_size,pixel_size),test_labels)"
      ],
      "execution_count": 63,
      "outputs": [
        {
          "output_type": "display_data",
          "data": {
            "image/png": "[encoded data removed]",
            "text/plain": [
              "<matplotlib.figure.Figure at 0x7f20a9eff5f8>"
            ]
          },
          "metadata": {
            "tags": []
          }
        },
        {
          "output_type": "display_data",
          "data": {
            "image/png": "[encoded data removed]",
            "text/plain": [
              "<matplotlib.figure.Figure at 0x7f20a7e65518>"
            ]
          },
          "metadata": {
            "tags": []
          }
        }
      ]
    },
    {
      "metadata": {
        "id": "EE0WMCAKasVr",
        "colab_type": "text"
      },
      "cell_type": "markdown",
      "source": [
        "Display the generated images when we input the noisy test images:\n",
        "First row: the orignal noisy test images \\\\\n",
        "Second row: the generated denoised test images"
      ]
    },
    {
      "metadata": {
        "id": "k_mYmLkWa8jG",
        "colab_type": "code",
        "colab": {
          "base_uri": "https://localhost:8080/",
          "height": 423
        },
        "outputId": "6fcc88a9-ea07-4cc4-8b69-088303a0b20c"
      },
      "cell_type": "code",
      "source": [
        "display_images(test_images_noisy.reshape(-1,pixel_size,pixel_size),test_labels)\n",
        "display_images(y_test_pred2.reshape(-1,pixel_size,pixel_size),test_labels)"
      ],
      "execution_count": 64,
      "outputs": [
        {
          "output_type": "display_data",
          "data": {
            "image/png": "[encoded data removed]",
            "text/plain": [
              "<matplotlib.figure.Figure at 0x7f20a7d30e80>"
            ]
          },
          "metadata": {
            "tags": []
          }
        },
        {
          "output_type": "display_data",
          "data": {
            "image/png": "[encoded data removed]",
            "text/plain": [
              "<matplotlib.figure.Figure at 0x7f20a7d30e10>"
            ]
          },
          "metadata": {
            "tags": []
          }
        }
      ]
    },
    {
      "metadata": {
        "id": "RTWdxL7Da85x",
        "colab_type": "text"
      },
      "cell_type": "markdown",
      "source": [
        "The model learned the images and generated almost correct images\n",
        "even from a very noisy set. The quality of regeneration can be further improved with\n",
        "proper hyperparameter tuning."
      ]
    },
    {
      "metadata": {
        "id": "0tqQvbPPbCBt",
        "colab_type": "text"
      },
      "cell_type": "markdown",
      "source": [
        "#Denoising autoencoder in Keras\n",
        "As Keras takes care of feeding the training set by batch size, we create a noisy training set to\n",
        "feed as input for our model:"
      ]
    },
    {
      "metadata": {
        "id": "-OMxdPOacF28",
        "colab_type": "code",
        "colab": {}
      },
      "cell_type": "code",
      "source": [
        "x_train_noisy = add_noise(x_train)"
      ],
      "execution_count": 0,
      "outputs": []
    },
    {
      "metadata": {
        "id": "9p5F07ARcHpd",
        "colab_type": "code",
        "colab": {}
      },
      "cell_type": "code",
      "source": [
        "tf.reset_default_graph()\n",
        "keras.backend.clear_session()"
      ],
      "execution_count": 0,
      "outputs": []
    },
    {
      "metadata": {
        "id": "8LYquku_cIus",
        "colab_type": "code",
        "colab": {}
      },
      "cell_type": "code",
      "source": [
        "import keras\n",
        "from keras.layers import Dense\n",
        "from keras.models import Sequential\n",
        "\n",
        "# hyperparameters\n",
        "learning_rate = 0.001\n",
        "batch_size = 100\n",
        "n_epochs = 100\n",
        "n_batches = int(mnist.train.num_examples/batch_size)\n",
        "\n",
        "# number of pixels in the MNIST image as number of inputs\n",
        "n_inputs = 784\n",
        "n_outputs = n_inputs\n",
        "\n",
        "# number of hidden layers\n",
        "n_layers = 2\n",
        "# neurons in each hidden layer\n",
        "n_neurons = [512,256]\n",
        "\n",
        "# add decoder layers:\n",
        "n_neurons.extend(list(reversed(n_neurons)))\n",
        "\n",
        "n_layers = n_layers * 2"
      ],
      "execution_count": 0,
      "outputs": []
    },
    {
      "metadata": {
        "id": "puSayZKncMu0",
        "colab_type": "code",
        "colab": {
          "base_uri": "https://localhost:8080/",
          "height": 306
        },
        "outputId": "cd6904cb-7aa4-413c-c500-37a847e370b6"
      },
      "cell_type": "code",
      "source": [
        "model = Sequential()\n",
        "\n",
        "# add input to first layer\n",
        "model.add(Dense(units=n_neurons[0], activation='relu', \n",
        "                input_shape=(n_inputs,)))\n",
        "\n",
        "for i in range(1,n_layers):\n",
        "    model.add(Dense(units=n_neurons[i], activation='relu'))\n",
        "    \n",
        "# add last layer to output layer\n",
        "model.add(Dense(units=n_outputs, activation='linear'))\n",
        "model.summary()"
      ],
      "execution_count": 12,
      "outputs": [
        {
          "output_type": "stream",
          "text": [
            "_________________________________________________________________\n",
            "Layer (type)                 Output Shape              Param #   \n",
            "=================================================================\n",
            "dense_1 (Dense)              (None, 512)               401920    \n",
            "_________________________________________________________________\n",
            "dense_2 (Dense)              (None, 256)               131328    \n",
            "_________________________________________________________________\n",
            "dense_3 (Dense)              (None, 256)               65792     \n",
            "_________________________________________________________________\n",
            "dense_4 (Dense)              (None, 512)               131584    \n",
            "_________________________________________________________________\n",
            "dense_5 (Dense)              (None, 784)               402192    \n",
            "=================================================================\n",
            "Total params: 1,132,816\n",
            "Trainable params: 1,132,816\n",
            "Non-trainable params: 0\n",
            "_________________________________________________________________\n"
          ],
          "name": "stdout"
        }
      ]
    },
    {
      "metadata": {
        "id": "M2nq5y_-cjc3",
        "colab_type": "code",
        "colab": {}
      },
      "cell_type": "code",
      "source": [
        "model.compile(loss='mse',\n",
        "              optimizer=keras.optimizers.Adam(lr=learning_rate))\n",
        "model.fit(x=x_train_noisy, y=x_train,\n",
        "                batch_size=batch_size,\n",
        "                epochs=n_epochs,\n",
        "                verbose=0)\n",
        "\n",
        "y_test_pred1 = model.predict(test_images)\n",
        "y_test_pred2 = model.predict(test_images_noisy)"
      ],
      "execution_count": 0,
      "outputs": []
    },
    {
      "metadata": {
        "id": "DdAN97Yac7aS",
        "colab_type": "code",
        "colab": {
          "base_uri": "https://localhost:8080/",
          "height": 365
        },
        "outputId": "c1b2aedd-2b9a-4188-eafe-3ea8e8566a30"
      },
      "cell_type": "code",
      "source": [
        "display_images(test_images.reshape(-1,pixel_size,pixel_size),test_labels)\n",
        "display_images(y_test_pred1.reshape(-1,pixel_size,pixel_size),test_labels)"
      ],
      "execution_count": 15,
      "outputs": [
        {
          "output_type": "display_data",
          "data": {
            "image/png": "[encoded data removed]",
            "text/plain": [
              "<matplotlib.figure.Figure at 0x7fe0b6f0cd30>"
            ]
          },
          "metadata": {
            "tags": []
          }
        },
        {
          "output_type": "display_data",
          "data": {
            "image/png": "[encoded data removed]",
            "text/plain": [
              "<matplotlib.figure.Figure at 0x7fe061c98518>"
            ]
          },
          "metadata": {
            "tags": []
          }
        }
      ]
    },
    {
      "metadata": {
        "id": "g822O6QMc9vm",
        "colab_type": "code",
        "colab": {
          "base_uri": "https://localhost:8080/",
          "height": 365
        },
        "outputId": "0cedb9dc-29c4-46ee-b4a6-cebfafe1e932"
      },
      "cell_type": "code",
      "source": [
        "display_images(test_images_noisy.reshape(-1,pixel_size,pixel_size),test_labels)\n",
        "display_images(y_test_pred2.reshape(-1,pixel_size,pixel_size),test_labels)"
      ],
      "execution_count": 16,
      "outputs": [
        {
          "output_type": "display_data",
          "data": {
            "image/png": "[encoded data removed]",
            "text/plain": [
              "<matplotlib.figure.Figure at 0x7fe054b14da0>"
            ]
          },
          "metadata": {
            "tags": []
          }
        },
        {
          "output_type": "display_data",
          "data": {
            "image/png": "[encoded data removed]",
            "text/plain": [
              "<matplotlib.figure.Figure at 0x7fe054b0b2e8>"
            ]
          },
          "metadata": {
            "tags": []
          }
        }
      ]
    },
    {
      "metadata": {
        "id": "UjVtK6dVddrM",
        "colab_type": "text"
      },
      "cell_type": "markdown",
      "source": [
        "#Variational autoencoder in TensorFlow\n",
        "Variational autoencoders are the modern generative version of autoencoders.\n",
        "\n",
        "Use a different coding style in TensorFlow to build the variational autoencoder for the purpose of demonstrating different styles."
      ]
    },
    {
      "metadata": {
        "id": "t7tv9wFXejYZ",
        "colab_type": "code",
        "colab": {}
      },
      "cell_type": "code",
      "source": [
        "tf.reset_default_graph()\n",
        "keras.backend.clear_session()"
      ],
      "execution_count": 0,
      "outputs": []
    },
    {
      "metadata": {
        "id": "yg1taUiFenJz",
        "colab_type": "code",
        "colab": {}
      },
      "cell_type": "code",
      "source": [
        "# hyperparameters\n",
        "learning_rate = 0.001\n",
        "n_epochs = 20\n",
        "batch_size = 100\n",
        "n_batches = int(mnist.train.num_examples/batch_size)\n",
        "\n",
        "# number of pixels in the MNIST image as number of inputs\n",
        "n_inputs = 784\n",
        "n_outputs = n_inputs"
      ],
      "execution_count": 0,
      "outputs": []
    },
    {
      "metadata": {
        "id": "i7pX0o4petjy",
        "colab_type": "text"
      },
      "cell_type": "markdown",
      "source": [
        "define a parameter dictionary to hold the weight and bias parameters:"
      ]
    },
    {
      "metadata": {
        "id": "zgOCofSEew-l",
        "colab_type": "code",
        "colab": {}
      },
      "cell_type": "code",
      "source": [
        "params = {}"
      ],
      "execution_count": 0,
      "outputs": []
    },
    {
      "metadata": {
        "id": "JP-pNy6Ie1nE",
        "colab_type": "text"
      },
      "cell_type": "markdown",
      "source": [
        "Define the number of hidden layers in each of the encoder and decoder:"
      ]
    },
    {
      "metadata": {
        "id": "34Zyh_R4eysL",
        "colab_type": "code",
        "colab": {}
      },
      "cell_type": "code",
      "source": [
        "# number of hidden layers\n",
        "n_layers = 2\n",
        "# neurons in each hidden layers\n",
        "n_neurons = [512, 256]"
      ],
      "execution_count": 0,
      "outputs": []
    },
    {
      "metadata": {
        "id": "koEmpmaIfD1Q",
        "colab_type": "text"
      },
      "cell_type": "markdown",
      "source": [
        "**The new addition in a variational encoder is that we define the dimensions of the\n",
        "latent variable z**:"
      ]
    },
    {
      "metadata": {
        "id": "ldOJrr4pfPaz",
        "colab_type": "code",
        "colab": {}
      },
      "cell_type": "code",
      "source": [
        "n_neurons_z = 128 # the dimensions of latent variables"
      ],
      "execution_count": 0,
      "outputs": []
    },
    {
      "metadata": {
        "id": "8wcvkXm8fXxI",
        "colab_type": "text"
      },
      "cell_type": "markdown",
      "source": [
        "use the activation tanh:"
      ]
    },
    {
      "metadata": {
        "id": "BEt_x3-8fYSy",
        "colab_type": "code",
        "colab": {}
      },
      "cell_type": "code",
      "source": [
        "activation = tf.nn.tanh"
      ],
      "execution_count": 0,
      "outputs": []
    },
    {
      "metadata": {
        "id": "S8R-jxx7fg2E",
        "colab_type": "code",
        "colab": {}
      },
      "cell_type": "code",
      "source": [
        "# input images\n",
        "x = tf.placeholder(dtype=tf.float32, name='x', shape=[None, n_inputs]) \n",
        "# output images\n",
        "y = tf.placeholder(dtype=tf.float32, name='y', shape=[None, n_outputs]) "
      ],
      "execution_count": 0,
      "outputs": []
    },
    {
      "metadata": {
        "id": "aLIp_VJXfaKt",
        "colab_type": "text"
      },
      "cell_type": "markdown",
      "source": [
        "define the input layer"
      ]
    },
    {
      "metadata": {
        "id": "uYGHq2GVflEx",
        "colab_type": "code",
        "colab": {}
      },
      "cell_type": "code",
      "source": [
        "# x is input layer\n",
        "layer = x"
      ],
      "execution_count": 0,
      "outputs": []
    },
    {
      "metadata": {
        "id": "1-05kmylfuEb",
        "colab_type": "text"
      },
      "cell_type": "markdown",
      "source": [
        "Define the biases and weights for the encoder network and add layers. \n",
        "\n",
        "The\n",
        "**encoder network** for *variational autoencoders* is also known as **recognition\n",
        "network** or **inference network** or **probabilistic encoder network**:"
      ]
    },
    {
      "metadata": {
        "id": "MLzhETCKgZxV",
        "colab_type": "code",
        "colab": {}
      },
      "cell_type": "code",
      "source": [
        "# add recognition / inference / probablistic encoder network weights, biases and layers\n",
        "for i in range(0, n_layers):\n",
        "  name = 'w_e_{0:04d}'.format(i)\n",
        "  params[name] = tf.get_variable(name=name,\n",
        "                                 shape=[n_inputs if i==0 else n_neurons[i-1],\n",
        "                                        n_neurons[i]],\n",
        "                                 initializer=tf.glorot_uniform_initializer()\n",
        "                                )\n",
        "  \n",
        "  name = 'b_e_{0:04d}'.format(i)\n",
        "  params[name] = tf.Variable(tf.zeros([n_neurons[i]]),\n",
        "                             name=name\n",
        "                            )\n",
        "  \n",
        "  layer = activation(tf.matmul(layer,\n",
        "                               params['w_e_{0:04d}'.format(i)],\n",
        "                              )+ params['b_e_{0:04d}'.format(i)]\n",
        "                    )"
      ],
      "execution_count": 0,
      "outputs": []
    },
    {
      "metadata": {
        "id": "gdLLbWdZh23N",
        "colab_type": "text"
      },
      "cell_type": "markdown",
      "source": [
        "Next, add the layers for mean and variance of the latent variables:"
      ]
    },
    {
      "metadata": {
        "id": "kfUl0sXwh-h6",
        "colab_type": "code",
        "colab": {}
      },
      "cell_type": "code",
      "source": [
        "name='w_e_z_mean'\n",
        "params[name] = tf.get_variable(name=name,\n",
        "                               shape=[n_neurons[n_layers-1], n_neurons_z],\n",
        "                               initializer=tf.glorot_uniform_initializer()\n",
        "                              )\n",
        "name='b_e_z_mean'\n",
        "params[name] = tf.Variable(tf.zeros([n_neurons_z]),\n",
        "                           name=name\n",
        "                          )\n",
        "z_mean = tf.matmul(layer, params['w_e_z_mean']) + params['b_e_z_mean']\n",
        "\n",
        "name='w_e_z_log_var'\n",
        "params[name] = tf.get_variable(name=name,\n",
        "                               shape=[n_neurons[n_layers-1], n_neurons_z],\n",
        "                               initializer=tf.glorot_uniform_initializer()\n",
        "                              )\n",
        "name='b_e_z_log_var'\n",
        "params[name] = tf.Variable(tf.zeros([n_neurons_z]),\n",
        "                     name='b_e_z_log_var'\n",
        "                    )\n",
        "\n",
        "z_log_var = tf.matmul(layer, params['w_e_z_log_var']) + params['b_e_z_log_var']"
      ],
      "execution_count": 0,
      "outputs": []
    },
    {
      "metadata": {
        "id": "VmfUdRSoicF_",
        "colab_type": "text"
      },
      "cell_type": "markdown",
      "source": [
        "Next, define the epsilon variable representing the noise distribution of the same\n",
        "shape as the variable holding the variance of z:"
      ]
    },
    {
      "metadata": {
        "id": "NJmctwApif7p",
        "colab_type": "code",
        "colab": {}
      },
      "cell_type": "code",
      "source": [
        "# noise distribution\n",
        "epsilon = tf.random_normal(tf.shape(z_log_var), \n",
        "                           mean=0, \n",
        "                           stddev=1.0,\n",
        "                           dtype=tf.float32, \n",
        "                           name='epsilon'\n",
        "                          )"
      ],
      "execution_count": 0,
      "outputs": []
    },
    {
      "metadata": {
        "id": "x6Bseggtih9A",
        "colab_type": "text"
      },
      "cell_type": "markdown",
      "source": [
        "Define a posterior distribution based on the mean, log variance, and noise:"
      ]
    },
    {
      "metadata": {
        "id": "pcmkp7f1ij8r",
        "colab_type": "code",
        "colab": {}
      },
      "cell_type": "code",
      "source": [
        "# posterior distribution\n",
        "z = z_mean + tf.exp(z_log_var * 0.5) * epsilon"
      ],
      "execution_count": 0,
      "outputs": []
    },
    {
      "metadata": {
        "id": "uXby4oYKiouV",
        "colab_type": "text"
      },
      "cell_type": "markdown",
      "source": [
        "Next, define the weights and biases for the decoder network and add the decoder\n",
        "layers. \n",
        "\n",
        "The **decoder network** in *variational autoencoder* is also known as\n",
        "**probabilistic decoder** or **generator network**."
      ]
    },
    {
      "metadata": {
        "id": "QWqttX0sizJM",
        "colab_type": "code",
        "colab": {}
      },
      "cell_type": "code",
      "source": [
        "# add generator / probablistic decoder network weights, biases and layers\n",
        "layer = z"
      ],
      "execution_count": 0,
      "outputs": []
    },
    {
      "metadata": {
        "id": "nTh4-orIi03i",
        "colab_type": "code",
        "colab": {}
      },
      "cell_type": "code",
      "source": [
        "for i in range(n_layers-1,-1,-1):\n",
        "    name='w_d_{0:04d}'.format(i)\n",
        "    params[name] = tf.get_variable(name=name, \n",
        "                                   shape=[n_neurons_z if i==n_layers-1 else n_neurons[i+1],\n",
        "                                          n_neurons[i]], \n",
        "                                   initializer=tf.glorot_uniform_initializer()\n",
        "                                  )\n",
        "    name='b_d_{0:04d}'.format(i)\n",
        "    params[name] = tf.Variable(tf.zeros([n_neurons[i]]),\n",
        "                         name=name \n",
        "                        )\n",
        "    layer = activation(tf.matmul(layer, params['w_d_{0:04d}'.format(i)]) + \n",
        "                          params['b_d_{0:04d}'.format(i)])"
      ],
      "execution_count": 0,
      "outputs": []
    },
    {
      "metadata": {
        "id": "fScABX8Si_XB",
        "colab_type": "text"
      },
      "cell_type": "markdown",
      "source": [
        "Finally, define the output layer:"
      ]
    },
    {
      "metadata": {
        "id": "P2SpKHqcj7IG",
        "colab_type": "code",
        "colab": {}
      },
      "cell_type": "code",
      "source": [
        "name='w_d_z_mean'\n",
        "params[name] = tf.get_variable(name=name,\n",
        "                               shape=[n_neurons[0],n_outputs],\n",
        "                               initializer=tf.glorot_uniform_initializer()\n",
        "                              )\n",
        "name='b_d_z_mean'\n",
        "params[name] = tf.Variable(tf.zeros([n_outputs]),\n",
        "                     name=name\n",
        "                    )\n",
        "name='w_d_z_log_var'    \n",
        "params[name] = tf.Variable(tf.random_normal([n_neurons[0],\n",
        "                                             n_outputs]),\n",
        "                           name=name\n",
        "                          )\n",
        "name='b_d_z_log_var'\n",
        "params[name] = tf.Variable(tf.zeros([n_outputs]),\n",
        "                           name=name\n",
        "                          )\n",
        "\n",
        "layer = tf.nn.sigmoid(tf.matmul(layer, params['w_d_z_mean']) + \n",
        "                          params['b_d_z_mean'])\n",
        "                        \n",
        "model = layer"
      ],
      "execution_count": 0,
      "outputs": []
    },
    {
      "metadata": {
        "id": "OUpRiV3vkFyz",
        "colab_type": "text"
      },
      "cell_type": "markdown",
      "source": [
        "In variation autoencoders, we have the *reconstruction loss* and the *regularization\n",
        "loss*. Define the loss function as the sum of reconstruction loss and regularization\n",
        "loss:"
      ]
    },
    {
      "metadata": {
        "id": "Uc3_Ty0tkM2n",
        "colab_type": "code",
        "colab": {}
      },
      "cell_type": "code",
      "source": [
        "# loss function\n",
        "rec_loss = -tf.reduce_sum(y \n",
        "                          * tf.log(1e-10 + model) \n",
        "                          + (1-y) \n",
        "                          * tf.log(1e-10 + 1 - model),\n",
        "                          1\n",
        "                         )\n",
        "reg_loss = -0.5 * tf.reduce_sum(1 \n",
        "                                + z_log_var \n",
        "                                - tf.square(z_mean) \n",
        "                                - tf.exp(z_log_var), \n",
        "                                1\n",
        "                               )            \n",
        "loss = tf.reduce_mean(rec_loss+reg_loss)\n",
        "# optimizer function\n",
        "optimizer = tf.train.AdamOptimizer(learning_rate=learning_rate)\n",
        "optimizer = optimizer.minimize(loss)"
      ],
      "execution_count": 0,
      "outputs": []
    },
    {
      "metadata": {
        "id": "vWXxsPPqkFq8",
        "colab_type": "text"
      },
      "cell_type": "markdown",
      "source": [
        "Train the model and generate the images from non-noisy and noisy test\n",
        "images:"
      ]
    },
    {
      "metadata": {
        "id": "Akkm2XmhkVvR",
        "colab_type": "code",
        "colab": {
          "base_uri": "https://localhost:8080/",
          "height": 68
        },
        "outputId": "d69aa423-5e70-4f33-f7e6-9c898a364082"
      },
      "cell_type": "code",
      "source": [
        "with tf.Session() as tfs:\n",
        "    tf.global_variables_initializer().run()\n",
        "    for epoch in range(n_epochs):\n",
        "        epoch_loss = 0.0\n",
        "        for batch in range(n_batches):\n",
        "            x_batch, _ = mnist.train.next_batch(batch_size)\n",
        "            x_batch_noisy = add_noise(x_batch)\n",
        "            feed_dict={x: x_batch_noisy, y: x_batch}\n",
        "            _,batch_loss = tfs.run([optimizer,loss], feed_dict=feed_dict)\n",
        "            epoch_loss += batch_loss \n",
        "        if (epoch%10==9) or (epoch==0):\n",
        "            average_loss = epoch_loss / n_batches\n",
        "            print('epoch: {0:04d}   loss = {1:0.6f}'\n",
        "                  .format(epoch,average_loss))\n",
        "\n",
        "    # predict images using autoencoder model trained            \n",
        "    y_test_pred1 = tfs.run(model, feed_dict={x: test_images})\n",
        "    y_test_pred2 = tfs.run(model, feed_dict={x: test_images_noisy})"
      ],
      "execution_count": 76,
      "outputs": [
        {
          "output_type": "stream",
          "text": [
            "epoch: 0000   loss = 198.760503\n",
            "epoch: 0009   loss = 125.145774\n",
            "epoch: 0019   loss = 119.259175\n"
          ],
          "name": "stdout"
        }
      ]
    },
    {
      "metadata": {
        "id": "G1fqO_stknBw",
        "colab_type": "text"
      },
      "cell_type": "markdown",
      "source": [
        "Display the non-noisy test images:"
      ]
    },
    {
      "metadata": {
        "id": "eNfrS86Ik6JF",
        "colab_type": "code",
        "colab": {
          "base_uri": "https://localhost:8080/",
          "height": 365
        },
        "outputId": "7b656372-ad5a-4422-ecb3-5c97028ad72c"
      },
      "cell_type": "code",
      "source": [
        "display_images(test_images.reshape(-1,pixel_size,pixel_size),test_labels)\n",
        "display_images(y_test_pred1.reshape(-1,pixel_size,pixel_size),test_labels)"
      ],
      "execution_count": 77,
      "outputs": [
        {
          "output_type": "display_data",
          "data": {
            "image/png": "[encoded data removed]",
            "text/plain": [
              "<matplotlib.figure.Figure at 0x7fe059541550>"
            ]
          },
          "metadata": {
            "tags": []
          }
        },
        {
          "output_type": "display_data",
          "data": {
            "image/png": "[encoded data removed]",
            "text/plain": [
              "<matplotlib.figure.Figure at 0x7fe050237668>"
            ]
          },
          "metadata": {
            "tags": []
          }
        }
      ]
    },
    {
      "metadata": {
        "id": "A12iJ_Bekx-C",
        "colab_type": "text"
      },
      "cell_type": "markdown",
      "source": [
        "Display the noisy test images"
      ]
    },
    {
      "metadata": {
        "id": "3fDSdK5Jk4Rt",
        "colab_type": "code",
        "colab": {
          "base_uri": "https://localhost:8080/",
          "height": 365
        },
        "outputId": "b465f26d-2210-4a80-aaae-594999b26f68"
      },
      "cell_type": "code",
      "source": [
        "display_images(test_images_noisy.reshape(-1,pixel_size,pixel_size),test_labels)\n",
        "display_images(y_test_pred2.reshape(-1,pixel_size,pixel_size),test_labels)"
      ],
      "execution_count": 78,
      "outputs": [
        {
          "output_type": "display_data",
          "data": {
            "image/png": "[encoded data removed]",
            "text/plain": [
              "<matplotlib.figure.Figure at 0x7fe05020f6a0>"
            ]
          },
          "metadata": {
            "tags": []
          }
        },
        {
          "output_type": "display_data",
          "data": {
            "image/png": "[encoded data removed]",
            "text/plain": [
              "<matplotlib.figure.Figure at 0x7fe03e7c8f28>"
            ]
          },
          "metadata": {
            "tags": []
          }
        }
      ]
    },
    {
      "metadata": {
        "id": "QVDTJ5jFlEAM",
        "colab_type": "text"
      },
      "cell_type": "markdown",
      "source": [
        "#Variational autoencoder in Keras\n",
        "In Keras, building the variational autoencoder is much easier and with lesser lines of\n",
        "code. The Keras variational autoencoders are best built using the functional style. So far we\n",
        "have used the sequential style of building the models in Keras, and now in this example, we\n",
        "will see the functional style of building the VAE model in Keras."
      ]
    },
    {
      "metadata": {
        "id": "HRCHSXoWlN_0",
        "colab_type": "text"
      },
      "cell_type": "markdown",
      "source": [
        "Define the hyper-parameters and the number of neurons in the hidden layers and\n",
        "the latent variables layer:"
      ]
    },
    {
      "metadata": {
        "id": "_cI_ytR2lP_r",
        "colab_type": "code",
        "colab": {}
      },
      "cell_type": "code",
      "source": [
        "tf.reset_default_graph()\n",
        "keras.backend.clear_session()"
      ],
      "execution_count": 0,
      "outputs": []
    },
    {
      "metadata": {
        "id": "rFgMxp8qlWvp",
        "colab_type": "code",
        "colab": {}
      },
      "cell_type": "code",
      "source": [
        "import keras\n",
        "from keras.layers import Lambda, Dense, Input, Layer\n",
        "from keras.models import Model\n",
        "from keras import backend as K\n",
        "    \n",
        "# hyperparameters\n",
        "learning_rate = 0.001\n",
        "batch_size = 100\n",
        "n_batches = int(mnist.train.num_examples/batch_size)\n",
        "\n",
        "# number of pixels in the MNIST image as number of inputs\n",
        "n_inputs = 784\n",
        "n_outputs = n_inputs\n",
        "\n",
        "# number of hidden layers\n",
        "n_layers = 2\n",
        "# neurons in each hidden layer\n",
        "n_neurons = [512,256]\n",
        "# the dimensions of latent variables\n",
        "n_neurons_z = 128 "
      ],
      "execution_count": 0,
      "outputs": []
    },
    {
      "metadata": {
        "id": "fIOD_Tl8ldMK",
        "colab_type": "text"
      },
      "cell_type": "markdown",
      "source": [
        "Build the input layer:"
      ]
    },
    {
      "metadata": {
        "id": "DCSVKuNglgIn",
        "colab_type": "code",
        "colab": {}
      },
      "cell_type": "code",
      "source": [
        "x = Input(shape=(n_inputs,), name='input')"
      ],
      "execution_count": 0,
      "outputs": []
    },
    {
      "metadata": {
        "id": "NRizAfnIli4V",
        "colab_type": "text"
      },
      "cell_type": "markdown",
      "source": [
        "Build the encoder layers, along with mean and variance layers for the latent\n",
        "variables:"
      ]
    },
    {
      "metadata": {
        "id": "RZbYDxaGllmt",
        "colab_type": "code",
        "colab": {}
      },
      "cell_type": "code",
      "source": [
        "layer = x\n",
        "\n",
        "# build encoder\n",
        "for i in range(n_layers):\n",
        "    layer = Dense(units=n_neurons[i], activation='relu',name='enc_{0}'.format(i))(layer)\n",
        "\n",
        "z_mean = Dense(units=n_neurons_z,name='z_mean')(layer)\n",
        "z_log_var = Dense(units=n_neurons_z,name='z_log_v')(layer)"
      ],
      "execution_count": 0,
      "outputs": []
    },
    {
      "metadata": {
        "id": "RySu9unWlrFT",
        "colab_type": "text"
      },
      "cell_type": "markdown",
      "source": [
        "Create the noise and posterior distributions:"
      ]
    },
    {
      "metadata": {
        "id": "veRFZcQ0ls68",
        "colab_type": "code",
        "colab": {}
      },
      "cell_type": "code",
      "source": [
        "# noise distribution\n",
        "epsilon = K.random_normal(shape=K.shape(z_log_var), \n",
        "                           mean=0, \n",
        "                           stddev=1.0\n",
        "                         )\n",
        "\n",
        "# posterior distribution\n",
        "#z = Lambda(z_mean + K.exp(z_log_var * 0.5) * epsilon,\n",
        "z = Lambda(lambda zargs: zargs[0] + K.exp(zargs[1] * 0.5) * epsilon,\n",
        "           name='z'\n",
        "          )([z_mean,z_log_var])"
      ],
      "execution_count": 0,
      "outputs": []
    },
    {
      "metadata": {
        "id": "7-ApQxFglx2J",
        "colab_type": "text"
      },
      "cell_type": "markdown",
      "source": [
        "Add the decoder layers:"
      ]
    },
    {
      "metadata": {
        "id": "M-_fMrIMl1HM",
        "colab_type": "code",
        "colab": {}
      },
      "cell_type": "code",
      "source": [
        "# add generator / probablistic decoder network layers\n",
        "layer = z\n",
        "\n",
        "for i in range(n_layers-1,-1,-1):\n",
        "    layer = Dense(units=n_neurons[i], activation='relu',name='dec_{0}'.format(i))(layer)"
      ],
      "execution_count": 0,
      "outputs": []
    },
    {
      "metadata": {
        "id": "MId6Lf5Sl751",
        "colab_type": "text"
      },
      "cell_type": "markdown",
      "source": [
        "Define the final output layer:"
      ]
    },
    {
      "metadata": {
        "id": "H_1nOy8Tl-Tp",
        "colab_type": "code",
        "colab": {}
      },
      "cell_type": "code",
      "source": [
        "y_hat = Dense(units=n_outputs, activation='sigmoid',name='output')(layer)"
      ],
      "execution_count": 0,
      "outputs": []
    },
    {
      "metadata": {
        "id": "6JhBxygil-s7",
        "colab_type": "text"
      },
      "cell_type": "markdown",
      "source": [
        "Finally, define the model from the input layer and the output layer and display\n",
        "the model summary:"
      ]
    },
    {
      "metadata": {
        "id": "S6MVHUzomBpC",
        "colab_type": "code",
        "colab": {
          "base_uri": "https://localhost:8080/",
          "height": 459
        },
        "outputId": "e6116409-e11d-4399-8dd0-9d947dbf119b"
      },
      "cell_type": "code",
      "source": [
        "model = Model(x,y_hat)\n",
        "model.summary()"
      ],
      "execution_count": 54,
      "outputs": [
        {
          "output_type": "stream",
          "text": [
            "__________________________________________________________________________________________________\n",
            "Layer (type)                    Output Shape         Param #     Connected to                     \n",
            "==================================================================================================\n",
            "input (InputLayer)              (None, 784)          0                                            \n",
            "__________________________________________________________________________________________________\n",
            "enc_0 (Dense)                   (None, 512)          401920      input[0][0]                      \n",
            "__________________________________________________________________________________________________\n",
            "enc_1 (Dense)                   (None, 256)          131328      enc_0[0][0]                      \n",
            "__________________________________________________________________________________________________\n",
            "z_mean (Dense)                  (None, 128)          32896       enc_1[0][0]                      \n",
            "__________________________________________________________________________________________________\n",
            "z_log_v (Dense)                 (None, 128)          32896       enc_1[0][0]                      \n",
            "__________________________________________________________________________________________________\n",
            "z (Lambda)                      (None, 128)          0           z_mean[0][0]                     \n",
            "                                                                 z_log_v[0][0]                    \n",
            "__________________________________________________________________________________________________\n",
            "dec_1 (Dense)                   (None, 256)          33024       z[0][0]                          \n",
            "__________________________________________________________________________________________________\n",
            "dec_0 (Dense)                   (None, 512)          131584      dec_1[0][0]                      \n",
            "__________________________________________________________________________________________________\n",
            "output (Dense)                  (None, 784)          402192      dec_0[0][0]                      \n",
            "==================================================================================================\n",
            "Total params: 1,165,840\n",
            "Trainable params: 1,165,840\n",
            "Non-trainable params: 0\n",
            "__________________________________________________________________________________________________\n"
          ],
          "name": "stdout"
        }
      ]
    },
    {
      "metadata": {
        "id": "pjty-I4jmE0F",
        "colab_type": "text"
      },
      "cell_type": "markdown",
      "source": [
        "Define a function that calculates the sum of reconstruction and regularization\n",
        "loss:"
      ]
    },
    {
      "metadata": {
        "id": "eEtz8nuBmFNe",
        "colab_type": "code",
        "colab": {}
      },
      "cell_type": "code",
      "source": [
        "def vae_loss(y, y_hat):\n",
        "        rec_loss = -K.sum(y * K.log(1e-10 + y_hat) + (1-y) * K.log(1e-10 + 1 - y_hat), \n",
        "                          axis=-1)\n",
        "        reg_loss = -0.5 * K.sum(1 + z_log_var - K.square(z_mean) - K.exp(z_log_var), axis=-1) \n",
        "         \n",
        "        loss = K.mean(rec_loss+reg_loss)\n",
        "        return loss"
      ],
      "execution_count": 0,
      "outputs": []
    },
    {
      "metadata": {
        "id": "dnM7YlZpmKe5",
        "colab_type": "text"
      },
      "cell_type": "markdown",
      "source": [
        "Train the model,"
      ]
    },
    {
      "metadata": {
        "id": "D8vW2YEBmL8k",
        "colab_type": "code",
        "colab": {}
      },
      "cell_type": "code",
      "source": [
        "model.compile(loss=vae_loss,\n",
        "              optimizer=keras.optimizers.Adam(lr=learning_rate)\n",
        "             )\n",
        "n_epochs=50\n",
        "\n",
        "model.fit(x=x_train_noisy, y=x_train,\n",
        "                batch_size=batch_size,\n",
        "                epochs=n_epochs,\n",
        "                verbose=0)\n",
        "\n",
        "y_test_pred1 = model.predict(test_images)\n",
        "y_test_pred2 = model.predict(test_images_noisy)"
      ],
      "execution_count": 0,
      "outputs": []
    },
    {
      "metadata": {
        "id": "ZieBfpYDmR_t",
        "colab_type": "code",
        "colab": {
          "base_uri": "https://localhost:8080/",
          "height": 365
        },
        "outputId": "0a8e1164-5e01-46ba-a883-553a3c9fbacc"
      },
      "cell_type": "code",
      "source": [
        "display_images(test_images.reshape(-1,pixel_size,pixel_size),test_labels)\n",
        "display_images(y_test_pred1.reshape(-1,pixel_size,pixel_size),test_labels)"
      ],
      "execution_count": 58,
      "outputs": [
        {
          "output_type": "display_data",
          "data": {
            "image/png": "[encoded data removed]",
            "text/plain": [
              "<matplotlib.figure.Figure at 0x7fe0521a1438>"
            ]
          },
          "metadata": {
            "tags": []
          }
        },
        {
          "output_type": "display_data",
          "data": {
            "image/png": "[encoded data removed]",
            "text/plain": [
              "<matplotlib.figure.Figure at 0x7fe0503fea58>"
            ]
          },
          "metadata": {
            "tags": []
          }
        }
      ]
    },
    {
      "metadata": {
        "id": "GzlxuKjymU_v",
        "colab_type": "code",
        "colab": {
          "base_uri": "https://localhost:8080/",
          "height": 365
        },
        "outputId": "83b278ad-ce7f-4886-d30e-352d32bea314"
      },
      "cell_type": "code",
      "source": [
        "display_images(test_images_noisy.reshape(-1,pixel_size,pixel_size),test_labels)\n",
        "display_images(y_test_pred2.reshape(-1,pixel_size,pixel_size),test_labels)"
      ],
      "execution_count": 59,
      "outputs": [
        {
          "output_type": "display_data",
          "data": {
            "image/png": "[encoded data removed]",
            "text/plain": [
              "<matplotlib.figure.Figure at 0x7fe050530d30>"
            ]
          },
          "metadata": {
            "tags": []
          }
        },
        {
          "output_type": "display_data",
          "data": {
            "image/png": "[encoded data removed]",
            "text/plain": [
              "<matplotlib.figure.Figure at 0x7fe0521b3828>"
            ]
          },
          "metadata": {
            "tags": []
          }
        }
      ]
    }
  ]
}